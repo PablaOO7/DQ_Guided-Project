{
  "nbformat": 4,
  "nbformat_minor": 0,
  "metadata": {
    "colab": {
      "name": "Guided Project 2: Exploring Hacker News Posts.ipynb",
      "provenance": [],
      "collapsed_sections": [],
      "toc_visible": true,
      "authorship_tag": "ABX9TyMOZpD4CU6+F0P4fFlqYeGo",
      "include_colab_link": true
    },
    "kernelspec": {
      "name": "python3",
      "display_name": "Python 3"
    }
  },
  "cells": [
    {
      "cell_type": "markdown",
      "metadata": {
        "id": "view-in-github",
        "colab_type": "text"
      },
      "source": [
        "<a href=\"https://colab.research.google.com/github/PablaOO7/DQ_Guided-Project/blob/master/Guided_Project_2_Exploring_Hacker_News_Posts.ipynb\" target=\"_parent\"><img src=\"https://colab.research.google.com/assets/colab-badge.svg\" alt=\"Open In Colab\"/></a>"
      ]
    },
    {
      "cell_type": "markdown",
      "metadata": {
        "id": "Fyrg0kvc2zuY",
        "colab_type": "text"
      },
      "source": [
        "#Guided Project 2: Exploring Hacker News Posts\n",
        "\n",
        "In this project, we'll work with a data set of submissions to popular technology site [Hacker News](https://news.ycombinator.com/).\n",
        "\n",
        "You can download the data set here: [Hacker news dataset](https://www.kaggle.com/hacker-news/hacker-news-posts)\n",
        "\n",
        "But for this project the rows has been reduced from 300,000 to approximately 20,000 by removing all submissions that did not receive any comments, and then randomly sampling from the remaining submissions.\n",
        "\n",
        "We will begin with importing the libraries we need and reading the data set into a list of lists\n",
        "\n",
        "**1.) Importing and Reading the data:**"
      ]
    },
    {
      "cell_type": "code",
      "metadata": {
        "id": "gDOp4X4k2TKH",
        "colab_type": "code",
        "colab": {
          "base_uri": "https://localhost:8080/",
          "height": 122
        },
        "outputId": "a2ca24fe-c6fa-456c-c77a-d97d436e2a9f"
      },
      "source": [
        "from csv import reader\n",
        "open_file = open (\"hacker_news.csv\")\n",
        "hn = reader(open_file)\n",
        "list_file = list(hn)\n",
        "\n",
        "print (*list_file[:5], sep='\\n')"
      ],
      "execution_count": 1,
      "outputs": [
        {
          "output_type": "stream",
          "text": [
            "['id', 'title', 'url', 'num_points', 'num_comments', 'author', 'created_at']\n",
            "['12224879', 'Interactive Dynamic Video', 'http://www.interactivedynamicvideo.com/', '386', '52', 'ne0phyte', '8/4/2016 11:52']\n",
            "['10975351', 'How to Use Open Source and Shut the Fuck Up at the Same Time', 'http://hueniverse.com/2016/01/26/how-to-use-open-source-and-shut-the-fuck-up-at-the-same-time/', '39', '10', 'josep2', '1/26/2016 19:30']\n",
            "['11964716', \"Florida DJs May Face Felony for April Fools' Water Joke\", 'http://www.thewire.com/entertainment/2013/04/florida-djs-april-fools-water-joke/63798/', '2', '1', 'vezycash', '6/23/2016 22:20']\n",
            "['11919867', 'Technology ventures: From Idea to Enterprise', 'https://www.amazon.com/Technology-Ventures-Enterprise-Thomas-Byers/dp/0073523429', '3', '1', 'hswarna', '6/17/2016 0:01']\n"
          ],
          "name": "stdout"
        }
      ]
    },
    {
      "cell_type": "markdown",
      "metadata": {
        "id": "AvUbqyEt4pyy",
        "colab_type": "text"
      },
      "source": [
        "You can see the first row contains the header part and the rest is the data. This can be viewed as follow:\n"
      ]
    },
    {
      "cell_type": "code",
      "metadata": {
        "id": "6D6ia6Oj4zGr",
        "colab_type": "code",
        "colab": {
          "base_uri": "https://localhost:8080/",
          "height": 156
        },
        "outputId": "522c7f92-19af-4fca-85bf-5e6937ffaecf"
      },
      "source": [
        "print (\"This is the header row\")\n",
        "print (list_file[0]) # index 0 contains the header\n",
        "print (\"This is the data\")\n",
        "print (*list_file[1:5], sep='\\n') # index from 1 to 5 contains the data values."
      ],
      "execution_count": 2,
      "outputs": [
        {
          "output_type": "stream",
          "text": [
            "This is the header row\n",
            "['id', 'title', 'url', 'num_points', 'num_comments', 'author', 'created_at']\n",
            "This is the data\n",
            "['12224879', 'Interactive Dynamic Video', 'http://www.interactivedynamicvideo.com/', '386', '52', 'ne0phyte', '8/4/2016 11:52']\n",
            "['10975351', 'How to Use Open Source and Shut the Fuck Up at the Same Time', 'http://hueniverse.com/2016/01/26/how-to-use-open-source-and-shut-the-fuck-up-at-the-same-time/', '39', '10', 'josep2', '1/26/2016 19:30']\n",
            "['11964716', \"Florida DJs May Face Felony for April Fools' Water Joke\", 'http://www.thewire.com/entertainment/2013/04/florida-djs-april-fools-water-joke/63798/', '2', '1', 'vezycash', '6/23/2016 22:20']\n",
            "['11919867', 'Technology ventures: From Idea to Enterprise', 'https://www.amazon.com/Technology-Ventures-Enterprise-Thomas-Byers/dp/0073523429', '3', '1', 'hswarna', '6/17/2016 0:01']\n"
          ],
          "name": "stdout"
        }
      ]
    },
    {
      "cell_type": "markdown",
      "metadata": {
        "id": "rNnxPbxp5a51",
        "colab_type": "text"
      },
      "source": [
        "In order to analyze our data, we need to first remove the row containing the column headers. Let's remove that first row next.\n",
        "\n",
        "**2.) Remove header row**"
      ]
    },
    {
      "cell_type": "code",
      "metadata": {
        "id": "gSeaOOdc5nxc",
        "colab_type": "code",
        "colab": {
          "base_uri": "https://localhost:8080/",
          "height": 173
        },
        "outputId": "0d7abaad-0baa-48f8-d0b2-ae17ad5e12f2"
      },
      "source": [
        "headers = list_file[0] #Extract the first row of data\n",
        "hn = list_file[1:] # Removes the first row from hn\n",
        "\n",
        "print (\"This is the header row:\")\n",
        "print (headers)\n",
        "print (\"This is the data:\")\n",
        "print (*hn[:5], sep=\"\\n\")"
      ],
      "execution_count": 3,
      "outputs": [
        {
          "output_type": "stream",
          "text": [
            "This is the header row:\n",
            "['id', 'title', 'url', 'num_points', 'num_comments', 'author', 'created_at']\n",
            "This is the data:\n",
            "['12224879', 'Interactive Dynamic Video', 'http://www.interactivedynamicvideo.com/', '386', '52', 'ne0phyte', '8/4/2016 11:52']\n",
            "['10975351', 'How to Use Open Source and Shut the Fuck Up at the Same Time', 'http://hueniverse.com/2016/01/26/how-to-use-open-source-and-shut-the-fuck-up-at-the-same-time/', '39', '10', 'josep2', '1/26/2016 19:30']\n",
            "['11964716', \"Florida DJs May Face Felony for April Fools' Water Joke\", 'http://www.thewire.com/entertainment/2013/04/florida-djs-april-fools-water-joke/63798/', '2', '1', 'vezycash', '6/23/2016 22:20']\n",
            "['11919867', 'Technology ventures: From Idea to Enterprise', 'https://www.amazon.com/Technology-Ventures-Enterprise-Thomas-Byers/dp/0073523429', '3', '1', 'hswarna', '6/17/2016 0:01']\n",
            "['10301696', 'Note by Note: The Making of Steinway L1037 (2007)', 'http://www.nytimes.com/2007/11/07/movies/07stein.html?_r=0', '8', '2', 'walterbell', '9/30/2015 4:12']\n"
          ],
          "name": "stdout"
        }
      ]
    },
    {
      "cell_type": "markdown",
      "metadata": {
        "id": "YkU-ZC-S6eKk",
        "colab_type": "text"
      },
      "source": [
        "**3.) Separate posts beginning with Ask HN and Show HN**\n",
        "\n",
        "After filtering out the header row, now we can separate the `Ask Posts` from the `Show Posts`. Posts that do not fall under this category will be listed as `Other Posts`.\n",
        "\n",
        "\n",
        "\n",
        "*   Create list\n",
        "*   Iterate though the data\n",
        "*   Use lower method which returns a lowercase version of the starting string. This is the make all the strings into matching order.\n",
        "*   Use startswith() function to look for `ask hn` and `show hn` in the beginning of title\n",
        "*   Finally, check the number of posts\n",
        "\n",
        "\n",
        "\n"
      ]
    },
    {
      "cell_type": "code",
      "metadata": {
        "id": "E-mWFPyg7C7Z",
        "colab_type": "code",
        "colab": {
          "base_uri": "https://localhost:8080/",
          "height": 68
        },
        "outputId": "f7df8ffc-824c-4a33-9d0d-0a02196b39ea"
      },
      "source": [
        "# Creating 3 empty lists\n",
        "ask_posts = []\n",
        "show_posts = []\n",
        "other_posts = []\n",
        "\n",
        "# Iterating through the data set without headers for the title of the post\n",
        "\n",
        "for row in hn:\n",
        "  title = row[1] # index 1 contains the title values\n",
        "\n",
        "  if title.lower().startswith('ask hn'):\n",
        "    ask_posts.append(row)\n",
        "  elif title.lower().startswith('show hn'):\n",
        "    show_posts.append(row)\n",
        "  else:\n",
        "    other_posts.append(row)\n",
        "\n",
        "# Total number of posts in each category\n",
        "print (\"Posts in ask_post:\",len(ask_posts))\n",
        "print (\"Posts in show_post:\",len(show_posts))\n",
        "print (\"Posts in other_post:\",len(other_posts))"
      ],
      "execution_count": 4,
      "outputs": [
        {
          "output_type": "stream",
          "text": [
            "Posts in ask_post: 1744\n",
            "Posts in show_post: 1162\n",
            "Posts in other_post: 17194\n"
          ],
          "name": "stdout"
        }
      ]
    },
    {
      "cell_type": "markdown",
      "metadata": {
        "id": "XfHhydUxAV23",
        "colab_type": "text"
      },
      "source": [
        "Displaying first five rows in each list:"
      ]
    },
    {
      "cell_type": "code",
      "metadata": {
        "id": "VHA0e49J_nVo",
        "colab_type": "code",
        "colab": {
          "base_uri": "https://localhost:8080/",
          "height": 411
        },
        "outputId": "11ac14b5-c714-42b0-e422-dea9cd409437"
      },
      "source": [
        "print(\"First five posts in ask_posts:\")\n",
        "print (*ask_posts[:5], sep='\\n')\n",
        "print('\\n')\n",
        "print(\"First five posts in show_posts:\")\n",
        "print (*show_posts[:5], sep='\\n')\n",
        "print('\\n')\n",
        "print(\"First five posts in other_posts\")\n",
        "print (*other_posts[:5], sep='\\n')"
      ],
      "execution_count": 5,
      "outputs": [
        {
          "output_type": "stream",
          "text": [
            "First five posts in ask_posts:\n",
            "['12296411', 'Ask HN: How to improve my personal website?', '', '2', '6', 'ahmedbaracat', '8/16/2016 9:55']\n",
            "['10610020', 'Ask HN: Am I the only one outraged by Twitter shutting down share counts?', '', '28', '29', 'tkfx', '11/22/2015 13:43']\n",
            "['11610310', 'Ask HN: Aby recent changes to CSS that broke mobile?', '', '1', '1', 'polskibus', '5/2/2016 10:14']\n",
            "['12210105', 'Ask HN: Looking for Employee #3 How do I do it?', '', '1', '3', 'sph130', '8/2/2016 14:20']\n",
            "['10394168', 'Ask HN: Someone offered to buy my browser extension from me. What now?', '', '28', '17', 'roykolak', '10/15/2015 16:38']\n",
            "\n",
            "\n",
            "First five posts in show_posts:\n",
            "['10627194', 'Show HN: Wio Link  ESP8266 Based Web of Things Hardware Development Platform', 'https://iot.seeed.cc', '26', '22', 'kfihihc', '11/25/2015 14:03']\n",
            "['10646440', 'Show HN: Something pointless I made', 'http://dn.ht/picklecat/', '747', '102', 'dhotson', '11/29/2015 22:46']\n",
            "['11590768', 'Show HN: Shanhu.io, a programming playground powered by e8vm', 'https://shanhu.io', '1', '1', 'h8liu', '4/28/2016 18:05']\n",
            "['12178806', 'Show HN: Webscope  Easy way for web developers to communicate with Clients', 'http://webscopeapp.com', '3', '3', 'fastbrick', '7/28/2016 7:11']\n",
            "['10872799', 'Show HN: GeoScreenshot  Easily test Geo-IP based web pages', 'https://www.geoscreenshot.com/', '1', '9', 'kpsychwave', '1/9/2016 20:45']\n",
            "\n",
            "\n",
            "First five posts in other_posts\n",
            "['12224879', 'Interactive Dynamic Video', 'http://www.interactivedynamicvideo.com/', '386', '52', 'ne0phyte', '8/4/2016 11:52']\n",
            "['10975351', 'How to Use Open Source and Shut the Fuck Up at the Same Time', 'http://hueniverse.com/2016/01/26/how-to-use-open-source-and-shut-the-fuck-up-at-the-same-time/', '39', '10', 'josep2', '1/26/2016 19:30']\n",
            "['11964716', \"Florida DJs May Face Felony for April Fools' Water Joke\", 'http://www.thewire.com/entertainment/2013/04/florida-djs-april-fools-water-joke/63798/', '2', '1', 'vezycash', '6/23/2016 22:20']\n",
            "['11919867', 'Technology ventures: From Idea to Enterprise', 'https://www.amazon.com/Technology-Ventures-Enterprise-Thomas-Byers/dp/0073523429', '3', '1', 'hswarna', '6/17/2016 0:01']\n",
            "['10301696', 'Note by Note: The Making of Steinway L1037 (2007)', 'http://www.nytimes.com/2007/11/07/movies/07stein.html?_r=0', '8', '2', 'walterbell', '9/30/2015 4:12']\n"
          ],
          "name": "stdout"
        }
      ]
    },
    {
      "cell_type": "markdown",
      "metadata": {
        "id": "OSXJAB9wAh0O",
        "colab_type": "text"
      },
      "source": [
        "**4) Calculating average number of comments to determine if ask posts or show posts receive more comments.**"
      ]
    },
    {
      "cell_type": "code",
      "metadata": {
        "id": "2WJif2YAAq8g",
        "colab_type": "code",
        "colab": {
          "base_uri": "https://localhost:8080/",
          "height": 85
        },
        "outputId": "ebc9d32f-e8d8-461a-bdb5-dc6d99d8289c"
      },
      "source": [
        "total_ask_comments = 0 # initialze the variable\n",
        "\n",
        "for post in ask_posts:\n",
        "  total_ask_comments += int(post[4])\n",
        "\n",
        "avg_ask_comments= total_ask_comments/len(ask_posts) # calculates the average comments\n",
        "\n",
        "print (\"Sum total of comments in ask posts:\",total_ask_comments)\n",
        "print(\"Average number of comments on ask posts:\",avg_ask_comments)\n",
        "\n",
        "total_show_comments = 0 # initialze the variable\n",
        "\n",
        "for post in show_posts:\n",
        "  total_show_comments += int(post[4])\n",
        "\n",
        "avg_show_comments= total_show_comments/len(show_posts)\n",
        "\n",
        "print (\"Sum total of comments in show posts:\",total_show_comments)\n",
        "print(\"Average number of comments on show posts:\",avg_show_comments)"
      ],
      "execution_count": 6,
      "outputs": [
        {
          "output_type": "stream",
          "text": [
            "Sum total of comments in ask posts: 24483\n",
            "Average number of comments on ask posts: 14.038417431192661\n",
            "Sum total of comments in show posts: 11988\n",
            "Average number of comments on show posts: 10.31669535283993\n"
          ],
          "name": "stdout"
        }
      ]
    },
    {
      "cell_type": "markdown",
      "metadata": {
        "id": "9J22lUwPHaws",
        "colab_type": "text"
      },
      "source": [
        "Above results says that on average, `Ask Posts`(14) get more feedback by comments than `Show Posts`(10).\n",
        "\n",
        "Since ask posts are more likely to receive comments, we'll focus just on these posts for further analysis."
      ]
    },
    {
      "cell_type": "markdown",
      "metadata": {
        "id": "xJGDmzVHKcrD",
        "colab_type": "text"
      },
      "source": [
        "**5.) Finding the amount of Ask Posts and Comments by Hour Created**\n",
        "\n",
        "- To determine if ask posts created at a certain time are more likely to attract comments. We'll use the following steps to perform this analysis:\n",
        "\n",
        "1.   Calculate the amount of ask posts created in each hour of the day, along with the number of comments received.\n",
        "2.   Calculate the average number of comments ask posts receive by hour created."
      ]
    },
    {
      "cell_type": "code",
      "metadata": {
        "id": "vofUBSLXJc7P",
        "colab_type": "code",
        "colab": {
          "base_uri": "https://localhost:8080/",
          "height": 459
        },
        "outputId": "bb5413d9-a3cd-48dd-9ca5-a6d0e3a798ea"
      },
      "source": [
        "import datetime as dt\n",
        "result_list = []\n",
        "\n",
        "for post in ask_posts:\n",
        "  created_at = post[6] # extracts created_at column\n",
        "  num_comments = int(post[4]) # extracts number of comments of the post\n",
        "  result_list.append([created_at, num_comments]) # list of lists created\n",
        "\n",
        "counts_by_hour = {}\n",
        "comments_by_hour = {}\n",
        "\n",
        "for row in result_list:\n",
        "  extract_date = row[0] # extracts date\n",
        "  comments = row[1] # extracts number of comments\n",
        "\n",
        "  date_time = dt.datetime.strptime(extract_date, \"%m/%d/%Y %H:%M\") # strptime method to parse the date\n",
        "  extract_hour = dt.datetime.strftime(date_time, \"%H\") # strftime to select just the hour from the datetime object\n",
        "\n",
        "  if extract_hour not in counts_by_hour:\n",
        "    counts_by_hour[extract_hour] = 1\n",
        "    comments_by_hour[extract_hour] = row[1]\n",
        "  else:\n",
        "    counts_by_hour[extract_hour] += 1\n",
        "    comments_by_hour[extract_hour] += row[1]\n",
        "\n",
        "print('The number of comments on ask posts by the hour are:')\n",
        "print ('hour : number of comments')\n",
        "comments_by_hour\n",
        "\n",
        "\n",
        "\n"
      ],
      "execution_count": 7,
      "outputs": [
        {
          "output_type": "stream",
          "text": [
            "The number of comments on ask posts by the hour are:\n",
            "hour : number of comments\n"
          ],
          "name": "stdout"
        },
        {
          "output_type": "execute_result",
          "data": {
            "text/plain": [
              "{'00': 447,\n",
              " '01': 683,\n",
              " '02': 1381,\n",
              " '03': 421,\n",
              " '04': 337,\n",
              " '05': 464,\n",
              " '06': 397,\n",
              " '07': 267,\n",
              " '08': 492,\n",
              " '09': 251,\n",
              " '10': 793,\n",
              " '11': 641,\n",
              " '12': 687,\n",
              " '13': 1253,\n",
              " '14': 1416,\n",
              " '15': 4477,\n",
              " '16': 1814,\n",
              " '17': 1146,\n",
              " '18': 1439,\n",
              " '19': 1188,\n",
              " '20': 1722,\n",
              " '21': 1745,\n",
              " '22': 479,\n",
              " '23': 543}"
            ]
          },
          "metadata": {
            "tags": []
          },
          "execution_count": 7
        }
      ]
    },
    {
      "cell_type": "markdown",
      "metadata": {
        "id": "4Xteap3BIvgV",
        "colab_type": "text"
      },
      "source": [
        "**`Result:`** From the output, one can notice that `Ask Posts` uploaded in the afternoon, specifically between 13:00 and 18:00 generate the most comments. One can see a peak at 15:00 with most number of comments.\n",
        "\n",
        "On the contrary, posts uploaded during the night time from 22:00 to 07:00 generate the least amount of comments. However, there is a shoot of comments at 02:00 between these hours, which seems dubious.\n",
        "\n",
        "One can also show the above result by calculating the average of number of comments. So, our next task would be that."
      ]
    },
    {
      "cell_type": "markdown",
      "metadata": {
        "id": "ET3_s1lIHbGv",
        "colab_type": "text"
      },
      "source": [
        "**6.) Calculating the average number of comments for ask HN posts by hour**\n",
        "\n",
        "After creating two dictionaries:\n",
        "\n",
        "\n",
        "*   `counts_by_hour:` contains the number of ask posts created during each hour of the day.\n",
        "*   `comments_by_hour:` contains the corresponding number of comments ask posts created at each hour received.\n",
        "\n",
        "Now, we'll use these two dictionaries to calculate the average number of comments for posts created during each hour of the day.\n",
        "\n"
      ]
    },
    {
      "cell_type": "code",
      "metadata": {
        "id": "vTHlf2r-KXyk",
        "colab_type": "code",
        "colab": {
          "base_uri": "https://localhost:8080/",
          "height": 442
        },
        "outputId": "c18c64d9-3e64-43e7-a295-cd6021b558d5"
      },
      "source": [
        "avg_by_hour = []\n",
        "\n",
        "for hour in comments_by_hour:\n",
        "  avg_by_hour.append([hour, comments_by_hour[hour] /counts_by_hour[hour]])\n",
        "\n",
        "print('Average number of comments for ask HN posts by hour:')\n",
        "avg_by_hour\n",
        "\n"
      ],
      "execution_count": 8,
      "outputs": [
        {
          "output_type": "stream",
          "text": [
            "Average number of comments for ask HN posts by hour:\n"
          ],
          "name": "stdout"
        },
        {
          "output_type": "execute_result",
          "data": {
            "text/plain": [
              "[['09', 5.5777777777777775],\n",
              " ['13', 14.741176470588234],\n",
              " ['10', 13.440677966101696],\n",
              " ['14', 13.233644859813085],\n",
              " ['16', 16.796296296296298],\n",
              " ['23', 7.985294117647059],\n",
              " ['12', 9.41095890410959],\n",
              " ['17', 11.46],\n",
              " ['15', 38.5948275862069],\n",
              " ['21', 16.009174311926607],\n",
              " ['20', 21.525],\n",
              " ['02', 23.810344827586206],\n",
              " ['18', 13.20183486238532],\n",
              " ['03', 7.796296296296297],\n",
              " ['05', 10.08695652173913],\n",
              " ['19', 10.8],\n",
              " ['01', 11.383333333333333],\n",
              " ['22', 6.746478873239437],\n",
              " ['08', 10.25],\n",
              " ['04', 7.170212765957447],\n",
              " ['00', 8.127272727272727],\n",
              " ['06', 9.022727272727273],\n",
              " ['07', 7.852941176470588],\n",
              " ['11', 11.051724137931034]]"
            ]
          },
          "metadata": {
            "tags": []
          },
          "execution_count": 8
        }
      ]
    },
    {
      "cell_type": "markdown",
      "metadata": {
        "id": "of_V-6TBWXYk",
        "colab_type": "text"
      },
      "source": [
        "Here, the average number of comments is highest at 15:00 and least at 09:00."
      ]
    },
    {
      "cell_type": "markdown",
      "metadata": {
        "id": "KN0NA5zvjGri",
        "colab_type": "text"
      },
      "source": [
        "**7.) Sorting and Printing  values from a list of lists:**\n",
        "\n",
        "- Although we have our results,but this format makes it hard to identify the hours with the highest values. \n",
        "\n",
        "- Let's finish by sorting the list of lists and printing the five highest values in a format that's easier to read."
      ]
    },
    {
      "cell_type": "code",
      "metadata": {
        "id": "JLR6wbh2j66m",
        "colab_type": "code",
        "colab": {
          "base_uri": "https://localhost:8080/",
          "height": 238
        },
        "outputId": "a8b924b5-8e03-4607-d09d-6ce163081913"
      },
      "source": [
        "# Create a list that equals avg_by_hour with swapped columns\n",
        "\n",
        "swap_avg_by_hour = []\n",
        "for row in avg_by_hour:\n",
        "  swap_avg_by_hour.append([row[1], row[0]])\n",
        "\n",
        "print('List with swapped colums:')\n",
        "print (*swap_avg_by_hour[:5], sep='\\n')\n",
        "\n",
        "# sorted() function to sort swap_avg_by_hour in descending order\n",
        "\n",
        "sorted_swap = sorted(swap_avg_by_hour, reverse=True)\n",
        "# Reverse argument= True, so that the highest value in the first column appears first in the list\n",
        "\n",
        "print ('\\n Top 5 Hours for Ask Posts Comments:')\n",
        "\n",
        "# str.format() method to print the hour and average in the following format: 15:00: 38.59 average comments per post\n",
        "\n",
        "for avg, hr in sorted_swap[:5]:\n",
        "    print('{}: {:.2f} average comments per post'.format(dt.datetime.strptime(hr, '%H').strftime('%H:%M'), avg))\n",
        "\n",
        "# strptime method to parse the date\n",
        "# strftime to select just the hour from the datetime object"
      ],
      "execution_count": 9,
      "outputs": [
        {
          "output_type": "stream",
          "text": [
            "List with swapped colums:\n",
            "[5.5777777777777775, '09']\n",
            "[14.741176470588234, '13']\n",
            "[13.440677966101696, '10']\n",
            "[13.233644859813085, '14']\n",
            "[16.796296296296298, '16']\n",
            "\n",
            " Top 5 Hours for Ask Posts Comments:\n",
            "15:00: 38.59 average comments per post\n",
            "02:00: 23.81 average comments per post\n",
            "20:00: 21.52 average comments per post\n",
            "16:00: 16.80 average comments per post\n",
            "21:00: 16.01 average comments per post\n"
          ],
          "name": "stdout"
        }
      ]
    },
    {
      "cell_type": "code",
      "metadata": {
        "id": "YFOtLxtuq-wn",
        "colab_type": "code",
        "colab": {
          "base_uri": "https://localhost:8080/",
          "height": 119
        },
        "outputId": "92835254-663e-42ff-f530-bffbd28f73a8"
      },
      "source": [
        "print(\"Top 5 Hours for Ask Posts Comments in ISt time zone\")\n",
        "date_format = \"%H\"\n",
        "\n",
        "for i in sorted_swap[:5]:\n",
        "    avg = \"{:.2f}\".format(i[0]) #two decimal places should be used \n",
        "    hours = i[1]\n",
        "    hour = dt.datetime.strptime(hours, date_format)\n",
        "    hour_in_gmt = hour + dt.timedelta(hours=9, minutes=30)\n",
        "    time = hour_in_gmt.strftime(\"%H:%M\")\n",
        "    print(\"{time} : {value} average comments per post\".format(time=time, value=avg)) "
      ],
      "execution_count": 13,
      "outputs": [
        {
          "output_type": "stream",
          "text": [
            "Top 5 Hours for Ask Posts Comments in ISt time zone\n",
            "00:30 : 38.59 average comments per post\n",
            "11:30 : 23.81 average comments per post\n",
            "05:30 : 21.52 average comments per post\n",
            "01:30 : 16.80 average comments per post\n",
            "06:30 : 16.01 average comments per post\n"
          ],
          "name": "stdout"
        }
      ]
    },
    {
      "cell_type": "markdown",
      "metadata": {
        "id": "HusBoE0DppXV",
        "colab_type": "text"
      },
      "source": [
        "**Conclusion**\n",
        "\n",
        "From the results above we can conclude the following things:- \n",
        "\n",
        "1.) Ask HN posts received more comments on average than Show_posts and other posts.\n",
        "\n",
        "2.) Ask posts get a receive higher upvotes, especially those uploaded between 13:00 and 21:00. (00:30 to 06:30 in IST zone)\n"
      ]
    },
    {
      "cell_type": "markdown",
      "metadata": {
        "id": "GJHEMFuQWteS",
        "colab_type": "text"
      },
      "source": [
        ""
      ]
    }
  ]
}