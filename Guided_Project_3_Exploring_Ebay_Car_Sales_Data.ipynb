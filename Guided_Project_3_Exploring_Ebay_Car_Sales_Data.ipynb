{
  "nbformat": 4,
  "nbformat_minor": 0,
  "metadata": {
    "colab": {
      "name": "Guided Project 3: Exploring Ebay Car Sales Data.ipynb",
      "provenance": [],
      "collapsed_sections": [],
      "authorship_tag": "ABX9TyNVOQcqkAyk1LjwJAF7Tnp9",
      "include_colab_link": true
    },
    "kernelspec": {
      "name": "python3",
      "display_name": "Python 3"
    }
  },
  "cells": [
    {
      "cell_type": "markdown",
      "metadata": {
        "id": "view-in-github",
        "colab_type": "text"
      },
      "source": [
        "<a href=\"https://colab.research.google.com/github/PablaOO7/DQ_Guided-Project/blob/master/Guided_Project_3_Exploring_Ebay_Car_Sales_Data.ipynb\" target=\"_parent\"><img src=\"https://colab.research.google.com/assets/colab-badge.svg\" alt=\"Open In Colab\"/></a>"
      ]
    },
    {
      "cell_type": "markdown",
      "metadata": {
        "id": "bmyr5vCxfMw_",
        "colab_type": "text"
      },
      "source": [
        "##Analyze the used car listings on Ebay Kleinanzeigen\n",
        "\n",
        "In this guided project, we'll work with a dataset of used cars from eBay Kleinanzeigen, a classifieds section of the German eBay website.\n",
        "\n",
        "Dataset is available here: [Click here to download](https://www.kaggle.com/orgesleka/used-cars-database/data)\n",
        "\n",
        "Out of the whole data, I have sampled 50,000 data points from the full dataset.\n",
        "\n",
        "The main focus of this mini-project is to clean the data and **analyze the included used car listings.**\n",
        "\n",
        "This would be done using `pandas `and `NumPy`.\n",
        "\n",
        "Let's begin with importing both of the libraries."
      ]
    },
    {
      "cell_type": "code",
      "metadata": {
        "id": "JGmayX7fe-eT",
        "colab_type": "code",
        "colab": {}
      },
      "source": [
        "import numpy as np\n",
        "import pandas as pd\n",
        "\n",
        "#reading the csv file\n",
        "autos = pd.read_csv('autos.csv', encoding = 'Windows-1252')"
      ],
      "execution_count": 1,
      "outputs": []
    },
    {
      "cell_type": "code",
      "metadata": {
        "id": "b2P1ETqnkThh",
        "colab_type": "code",
        "colab": {
          "base_uri": "https://localhost:8080/",
          "height": 297
        },
        "outputId": "076901fd-24a1-4eaa-bf09-0ff4cdd62627"
      },
      "source": [
        "autos.describe()"
      ],
      "execution_count": 2,
      "outputs": [
        {
          "output_type": "execute_result",
          "data": {
            "text/html": [
              "<div>\n",
              "<style scoped>\n",
              "    .dataframe tbody tr th:only-of-type {\n",
              "        vertical-align: middle;\n",
              "    }\n",
              "\n",
              "    .dataframe tbody tr th {\n",
              "        vertical-align: top;\n",
              "    }\n",
              "\n",
              "    .dataframe thead th {\n",
              "        text-align: right;\n",
              "    }\n",
              "</style>\n",
              "<table border=\"1\" class=\"dataframe\">\n",
              "  <thead>\n",
              "    <tr style=\"text-align: right;\">\n",
              "      <th></th>\n",
              "      <th>yearOfRegistration</th>\n",
              "      <th>powerPS</th>\n",
              "      <th>monthOfRegistration</th>\n",
              "      <th>nrOfPictures</th>\n",
              "      <th>postalCode</th>\n",
              "    </tr>\n",
              "  </thead>\n",
              "  <tbody>\n",
              "    <tr>\n",
              "      <th>count</th>\n",
              "      <td>50000.000000</td>\n",
              "      <td>50000.000000</td>\n",
              "      <td>50000.000000</td>\n",
              "      <td>50000.0</td>\n",
              "      <td>50000.000000</td>\n",
              "    </tr>\n",
              "    <tr>\n",
              "      <th>mean</th>\n",
              "      <td>2005.073280</td>\n",
              "      <td>116.355920</td>\n",
              "      <td>5.723360</td>\n",
              "      <td>0.0</td>\n",
              "      <td>50813.627300</td>\n",
              "    </tr>\n",
              "    <tr>\n",
              "      <th>std</th>\n",
              "      <td>105.712813</td>\n",
              "      <td>209.216627</td>\n",
              "      <td>3.711984</td>\n",
              "      <td>0.0</td>\n",
              "      <td>25779.747957</td>\n",
              "    </tr>\n",
              "    <tr>\n",
              "      <th>min</th>\n",
              "      <td>1000.000000</td>\n",
              "      <td>0.000000</td>\n",
              "      <td>0.000000</td>\n",
              "      <td>0.0</td>\n",
              "      <td>1067.000000</td>\n",
              "    </tr>\n",
              "    <tr>\n",
              "      <th>25%</th>\n",
              "      <td>1999.000000</td>\n",
              "      <td>70.000000</td>\n",
              "      <td>3.000000</td>\n",
              "      <td>0.0</td>\n",
              "      <td>30451.000000</td>\n",
              "    </tr>\n",
              "    <tr>\n",
              "      <th>50%</th>\n",
              "      <td>2003.000000</td>\n",
              "      <td>105.000000</td>\n",
              "      <td>6.000000</td>\n",
              "      <td>0.0</td>\n",
              "      <td>49577.000000</td>\n",
              "    </tr>\n",
              "    <tr>\n",
              "      <th>75%</th>\n",
              "      <td>2008.000000</td>\n",
              "      <td>150.000000</td>\n",
              "      <td>9.000000</td>\n",
              "      <td>0.0</td>\n",
              "      <td>71540.000000</td>\n",
              "    </tr>\n",
              "    <tr>\n",
              "      <th>max</th>\n",
              "      <td>9999.000000</td>\n",
              "      <td>17700.000000</td>\n",
              "      <td>12.000000</td>\n",
              "      <td>0.0</td>\n",
              "      <td>99998.000000</td>\n",
              "    </tr>\n",
              "  </tbody>\n",
              "</table>\n",
              "</div>"
            ],
            "text/plain": [
              "       yearOfRegistration       powerPS  ...  nrOfPictures    postalCode\n",
              "count        50000.000000  50000.000000  ...       50000.0  50000.000000\n",
              "mean          2005.073280    116.355920  ...           0.0  50813.627300\n",
              "std            105.712813    209.216627  ...           0.0  25779.747957\n",
              "min           1000.000000      0.000000  ...           0.0   1067.000000\n",
              "25%           1999.000000     70.000000  ...           0.0  30451.000000\n",
              "50%           2003.000000    105.000000  ...           0.0  49577.000000\n",
              "75%           2008.000000    150.000000  ...           0.0  71540.000000\n",
              "max           9999.000000  17700.000000  ...           0.0  99998.000000\n",
              "\n",
              "[8 rows x 5 columns]"
            ]
          },
          "metadata": {
            "tags": []
          },
          "execution_count": 2
        }
      ]
    },
    {
      "cell_type": "code",
      "metadata": {
        "id": "m2PHqy_akp6v",
        "colab_type": "code",
        "colab": {
          "base_uri": "https://localhost:8080/",
          "height": 394
        },
        "outputId": "9bb12b51-1376-40c5-f3f0-4f3d96664e23"
      },
      "source": [
        "autos.head()"
      ],
      "execution_count": 3,
      "outputs": [
        {
          "output_type": "execute_result",
          "data": {
            "text/html": [
              "<div>\n",
              "<style scoped>\n",
              "    .dataframe tbody tr th:only-of-type {\n",
              "        vertical-align: middle;\n",
              "    }\n",
              "\n",
              "    .dataframe tbody tr th {\n",
              "        vertical-align: top;\n",
              "    }\n",
              "\n",
              "    .dataframe thead th {\n",
              "        text-align: right;\n",
              "    }\n",
              "</style>\n",
              "<table border=\"1\" class=\"dataframe\">\n",
              "  <thead>\n",
              "    <tr style=\"text-align: right;\">\n",
              "      <th></th>\n",
              "      <th>dateCrawled</th>\n",
              "      <th>name</th>\n",
              "      <th>seller</th>\n",
              "      <th>offerType</th>\n",
              "      <th>price</th>\n",
              "      <th>abtest</th>\n",
              "      <th>vehicleType</th>\n",
              "      <th>yearOfRegistration</th>\n",
              "      <th>gearbox</th>\n",
              "      <th>powerPS</th>\n",
              "      <th>model</th>\n",
              "      <th>odometer</th>\n",
              "      <th>monthOfRegistration</th>\n",
              "      <th>fuelType</th>\n",
              "      <th>brand</th>\n",
              "      <th>notRepairedDamage</th>\n",
              "      <th>dateCreated</th>\n",
              "      <th>nrOfPictures</th>\n",
              "      <th>postalCode</th>\n",
              "      <th>lastSeen</th>\n",
              "    </tr>\n",
              "  </thead>\n",
              "  <tbody>\n",
              "    <tr>\n",
              "      <th>0</th>\n",
              "      <td>2016-03-26 17:47:46</td>\n",
              "      <td>Peugeot_807_160_NAVTECH_ON_BOARD</td>\n",
              "      <td>privat</td>\n",
              "      <td>Angebot</td>\n",
              "      <td>$5,000</td>\n",
              "      <td>control</td>\n",
              "      <td>bus</td>\n",
              "      <td>2004</td>\n",
              "      <td>manuell</td>\n",
              "      <td>158</td>\n",
              "      <td>andere</td>\n",
              "      <td>150,000km</td>\n",
              "      <td>3</td>\n",
              "      <td>lpg</td>\n",
              "      <td>peugeot</td>\n",
              "      <td>nein</td>\n",
              "      <td>2016-03-26 00:00:00</td>\n",
              "      <td>0</td>\n",
              "      <td>79588</td>\n",
              "      <td>2016-04-06 06:45:54</td>\n",
              "    </tr>\n",
              "    <tr>\n",
              "      <th>1</th>\n",
              "      <td>2016-04-04 13:38:56</td>\n",
              "      <td>BMW_740i_4_4_Liter_HAMANN_UMBAU_Mega_Optik</td>\n",
              "      <td>privat</td>\n",
              "      <td>Angebot</td>\n",
              "      <td>$8,500</td>\n",
              "      <td>control</td>\n",
              "      <td>limousine</td>\n",
              "      <td>1997</td>\n",
              "      <td>automatik</td>\n",
              "      <td>286</td>\n",
              "      <td>7er</td>\n",
              "      <td>150,000km</td>\n",
              "      <td>6</td>\n",
              "      <td>benzin</td>\n",
              "      <td>bmw</td>\n",
              "      <td>nein</td>\n",
              "      <td>2016-04-04 00:00:00</td>\n",
              "      <td>0</td>\n",
              "      <td>71034</td>\n",
              "      <td>2016-04-06 14:45:08</td>\n",
              "    </tr>\n",
              "    <tr>\n",
              "      <th>2</th>\n",
              "      <td>2016-03-26 18:57:24</td>\n",
              "      <td>Volkswagen_Golf_1.6_United</td>\n",
              "      <td>privat</td>\n",
              "      <td>Angebot</td>\n",
              "      <td>$8,990</td>\n",
              "      <td>test</td>\n",
              "      <td>limousine</td>\n",
              "      <td>2009</td>\n",
              "      <td>manuell</td>\n",
              "      <td>102</td>\n",
              "      <td>golf</td>\n",
              "      <td>70,000km</td>\n",
              "      <td>7</td>\n",
              "      <td>benzin</td>\n",
              "      <td>volkswagen</td>\n",
              "      <td>nein</td>\n",
              "      <td>2016-03-26 00:00:00</td>\n",
              "      <td>0</td>\n",
              "      <td>35394</td>\n",
              "      <td>2016-04-06 20:15:37</td>\n",
              "    </tr>\n",
              "    <tr>\n",
              "      <th>3</th>\n",
              "      <td>2016-03-12 16:58:10</td>\n",
              "      <td>Smart_smart_fortwo_coupe_softouch/F1/Klima/Pan...</td>\n",
              "      <td>privat</td>\n",
              "      <td>Angebot</td>\n",
              "      <td>$4,350</td>\n",
              "      <td>control</td>\n",
              "      <td>kleinwagen</td>\n",
              "      <td>2007</td>\n",
              "      <td>automatik</td>\n",
              "      <td>71</td>\n",
              "      <td>fortwo</td>\n",
              "      <td>70,000km</td>\n",
              "      <td>6</td>\n",
              "      <td>benzin</td>\n",
              "      <td>smart</td>\n",
              "      <td>nein</td>\n",
              "      <td>2016-03-12 00:00:00</td>\n",
              "      <td>0</td>\n",
              "      <td>33729</td>\n",
              "      <td>2016-03-15 03:16:28</td>\n",
              "    </tr>\n",
              "    <tr>\n",
              "      <th>4</th>\n",
              "      <td>2016-04-01 14:38:50</td>\n",
              "      <td>Ford_Focus_1_6_Benzin_TÜV_neu_ist_sehr_gepfleg...</td>\n",
              "      <td>privat</td>\n",
              "      <td>Angebot</td>\n",
              "      <td>$1,350</td>\n",
              "      <td>test</td>\n",
              "      <td>kombi</td>\n",
              "      <td>2003</td>\n",
              "      <td>manuell</td>\n",
              "      <td>0</td>\n",
              "      <td>focus</td>\n",
              "      <td>150,000km</td>\n",
              "      <td>7</td>\n",
              "      <td>benzin</td>\n",
              "      <td>ford</td>\n",
              "      <td>nein</td>\n",
              "      <td>2016-04-01 00:00:00</td>\n",
              "      <td>0</td>\n",
              "      <td>39218</td>\n",
              "      <td>2016-04-01 14:38:50</td>\n",
              "    </tr>\n",
              "  </tbody>\n",
              "</table>\n",
              "</div>"
            ],
            "text/plain": [
              "           dateCrawled  ...             lastSeen\n",
              "0  2016-03-26 17:47:46  ...  2016-04-06 06:45:54\n",
              "1  2016-04-04 13:38:56  ...  2016-04-06 14:45:08\n",
              "2  2016-03-26 18:57:24  ...  2016-04-06 20:15:37\n",
              "3  2016-03-12 16:58:10  ...  2016-03-15 03:16:28\n",
              "4  2016-04-01 14:38:50  ...  2016-04-01 14:38:50\n",
              "\n",
              "[5 rows x 20 columns]"
            ]
          },
          "metadata": {
            "tags": []
          },
          "execution_count": 3
        }
      ]
    },
    {
      "cell_type": "markdown",
      "metadata": {
        "id": "TTfBaQ-Xku1u",
        "colab_type": "text"
      },
      "source": [
        "There are total 50,000 rows and 20 columns. There are some null values and most of the columns are string datatype."
      ]
    },
    {
      "cell_type": "markdown",
      "metadata": {
        "id": "XurtSzK9rso2",
        "colab_type": "text"
      },
      "source": [
        "**1.) Cleaning Column Names**\n",
        "\n",
        "- For this we would check the existing columns.\n",
        "- As most of the columns has [camel case](https://en.wikipedia.org/wiki/Camel_case), we would convert that into [snake case](https://en.wikipedia.org/wiki/Snake_case).\n",
        "- Along with this some changes in few wordings would be made to describe the columns more accurately.\n",
        "- Then, we would update our `Dataframe`."
      ]
    },
    {
      "cell_type": "code",
      "metadata": {
        "id": "W8WqejETs5Ga",
        "colab_type": "code",
        "colab": {
          "base_uri": "https://localhost:8080/",
          "height": 119
        },
        "outputId": "94a3fd71-6b14-4639-ef80-23a4f05852c2"
      },
      "source": [
        "autos.columns"
      ],
      "execution_count": 4,
      "outputs": [
        {
          "output_type": "execute_result",
          "data": {
            "text/plain": [
              "Index(['dateCrawled', 'name', 'seller', 'offerType', 'price', 'abtest',\n",
              "       'vehicleType', 'yearOfRegistration', 'gearbox', 'powerPS', 'model',\n",
              "       'odometer', 'monthOfRegistration', 'fuelType', 'brand',\n",
              "       'notRepairedDamage', 'dateCreated', 'nrOfPictures', 'postalCode',\n",
              "       'lastSeen'],\n",
              "      dtype='object')"
            ]
          },
          "metadata": {
            "tags": []
          },
          "execution_count": 4
        }
      ]
    },
    {
      "cell_type": "code",
      "metadata": {
        "id": "z5KjDfNas-Yp",
        "colab_type": "code",
        "colab": {
          "base_uri": "https://localhost:8080/",
          "height": 119
        },
        "outputId": "5cfa143e-7b68-45ee-eab1-5122a0e86f43"
      },
      "source": [
        "autos.rename(columns = {'yearOfRegistration' : 'registration_year',\n",
        "                        'monthOfRegistration' : 'registration_month',\n",
        "                        'notRepairedDamage' : 'unrepaired_damage',\n",
        "                        'dateCreated' : 'ad_created',\n",
        "                        'dateCrawled' : 'date_crawled', \n",
        "                        'offerType' : 'offer_type',\n",
        "                        'abtest' : 'ab_test',\n",
        "                        'vehicleType' : 'vehicle_type',\n",
        "                        'powerPS' : 'power_ps',\n",
        "                        'fuelType' : 'fuel_type',\n",
        "                        'nrOfPictures' : 'num_photos',\n",
        "                        'postalCode' : 'postal_code',\n",
        "                        'lastSeen' : 'last_seen'}, inplace=True)\n",
        "autos.columns"
      ],
      "execution_count": 5,
      "outputs": [
        {
          "output_type": "execute_result",
          "data": {
            "text/plain": [
              "Index(['date_crawled', 'name', 'seller', 'offer_type', 'price', 'ab_test',\n",
              "       'vehicle_type', 'registration_year', 'gearbox', 'power_ps', 'model',\n",
              "       'odometer', 'registration_month', 'fuel_type', 'brand',\n",
              "       'unrepaired_damage', 'ad_created', 'num_photos', 'postal_code',\n",
              "       'last_seen'],\n",
              "      dtype='object')"
            ]
          },
          "metadata": {
            "tags": []
          },
          "execution_count": 5
        }
      ]
    },
    {
      "cell_type": "markdown",
      "metadata": {
        "id": "b9bADf4-xBqT",
        "colab_type": "text"
      },
      "source": [
        "Now after cleaning the columns let move to second task."
      ]
    },
    {
      "cell_type": "markdown",
      "metadata": {
        "id": "pdVfdreixKpQ",
        "colab_type": "text"
      },
      "source": [
        "**2.) Initial Exploration and Cleaning.**\n",
        "\n",
        "First need to explore the data to find obvious areas where one can clean the data.\n"
      ]
    },
    {
      "cell_type": "code",
      "metadata": {
        "id": "TwX38os5yMoc",
        "colab_type": "code",
        "colab": {
          "base_uri": "https://localhost:8080/",
          "height": 444
        },
        "outputId": "1f28bc9d-0781-4ea2-8d5e-f44fdb02e0ee"
      },
      "source": [
        "autos.describe(include='all')"
      ],
      "execution_count": 6,
      "outputs": [
        {
          "output_type": "execute_result",
          "data": {
            "text/html": [
              "<div>\n",
              "<style scoped>\n",
              "    .dataframe tbody tr th:only-of-type {\n",
              "        vertical-align: middle;\n",
              "    }\n",
              "\n",
              "    .dataframe tbody tr th {\n",
              "        vertical-align: top;\n",
              "    }\n",
              "\n",
              "    .dataframe thead th {\n",
              "        text-align: right;\n",
              "    }\n",
              "</style>\n",
              "<table border=\"1\" class=\"dataframe\">\n",
              "  <thead>\n",
              "    <tr style=\"text-align: right;\">\n",
              "      <th></th>\n",
              "      <th>date_crawled</th>\n",
              "      <th>name</th>\n",
              "      <th>seller</th>\n",
              "      <th>offer_type</th>\n",
              "      <th>price</th>\n",
              "      <th>ab_test</th>\n",
              "      <th>vehicle_type</th>\n",
              "      <th>registration_year</th>\n",
              "      <th>gearbox</th>\n",
              "      <th>power_ps</th>\n",
              "      <th>model</th>\n",
              "      <th>odometer</th>\n",
              "      <th>registration_month</th>\n",
              "      <th>fuel_type</th>\n",
              "      <th>brand</th>\n",
              "      <th>unrepaired_damage</th>\n",
              "      <th>ad_created</th>\n",
              "      <th>num_photos</th>\n",
              "      <th>postal_code</th>\n",
              "      <th>last_seen</th>\n",
              "    </tr>\n",
              "  </thead>\n",
              "  <tbody>\n",
              "    <tr>\n",
              "      <th>count</th>\n",
              "      <td>50000</td>\n",
              "      <td>50000</td>\n",
              "      <td>50000</td>\n",
              "      <td>50000</td>\n",
              "      <td>50000</td>\n",
              "      <td>50000</td>\n",
              "      <td>44905</td>\n",
              "      <td>50000.000000</td>\n",
              "      <td>47320</td>\n",
              "      <td>50000.000000</td>\n",
              "      <td>47242</td>\n",
              "      <td>50000</td>\n",
              "      <td>50000.000000</td>\n",
              "      <td>45518</td>\n",
              "      <td>50000</td>\n",
              "      <td>40171</td>\n",
              "      <td>50000</td>\n",
              "      <td>50000.0</td>\n",
              "      <td>50000.000000</td>\n",
              "      <td>50000</td>\n",
              "    </tr>\n",
              "    <tr>\n",
              "      <th>unique</th>\n",
              "      <td>48213</td>\n",
              "      <td>38754</td>\n",
              "      <td>2</td>\n",
              "      <td>2</td>\n",
              "      <td>2357</td>\n",
              "      <td>2</td>\n",
              "      <td>8</td>\n",
              "      <td>NaN</td>\n",
              "      <td>2</td>\n",
              "      <td>NaN</td>\n",
              "      <td>245</td>\n",
              "      <td>13</td>\n",
              "      <td>NaN</td>\n",
              "      <td>7</td>\n",
              "      <td>40</td>\n",
              "      <td>2</td>\n",
              "      <td>76</td>\n",
              "      <td>NaN</td>\n",
              "      <td>NaN</td>\n",
              "      <td>39481</td>\n",
              "    </tr>\n",
              "    <tr>\n",
              "      <th>top</th>\n",
              "      <td>2016-03-10 15:36:24</td>\n",
              "      <td>Ford_Fiesta</td>\n",
              "      <td>privat</td>\n",
              "      <td>Angebot</td>\n",
              "      <td>$0</td>\n",
              "      <td>test</td>\n",
              "      <td>limousine</td>\n",
              "      <td>NaN</td>\n",
              "      <td>manuell</td>\n",
              "      <td>NaN</td>\n",
              "      <td>golf</td>\n",
              "      <td>150,000km</td>\n",
              "      <td>NaN</td>\n",
              "      <td>benzin</td>\n",
              "      <td>volkswagen</td>\n",
              "      <td>nein</td>\n",
              "      <td>2016-04-03 00:00:00</td>\n",
              "      <td>NaN</td>\n",
              "      <td>NaN</td>\n",
              "      <td>2016-04-07 06:17:27</td>\n",
              "    </tr>\n",
              "    <tr>\n",
              "      <th>freq</th>\n",
              "      <td>3</td>\n",
              "      <td>78</td>\n",
              "      <td>49999</td>\n",
              "      <td>49999</td>\n",
              "      <td>1421</td>\n",
              "      <td>25756</td>\n",
              "      <td>12859</td>\n",
              "      <td>NaN</td>\n",
              "      <td>36993</td>\n",
              "      <td>NaN</td>\n",
              "      <td>4024</td>\n",
              "      <td>32424</td>\n",
              "      <td>NaN</td>\n",
              "      <td>30107</td>\n",
              "      <td>10687</td>\n",
              "      <td>35232</td>\n",
              "      <td>1946</td>\n",
              "      <td>NaN</td>\n",
              "      <td>NaN</td>\n",
              "      <td>8</td>\n",
              "    </tr>\n",
              "    <tr>\n",
              "      <th>mean</th>\n",
              "      <td>NaN</td>\n",
              "      <td>NaN</td>\n",
              "      <td>NaN</td>\n",
              "      <td>NaN</td>\n",
              "      <td>NaN</td>\n",
              "      <td>NaN</td>\n",
              "      <td>NaN</td>\n",
              "      <td>2005.073280</td>\n",
              "      <td>NaN</td>\n",
              "      <td>116.355920</td>\n",
              "      <td>NaN</td>\n",
              "      <td>NaN</td>\n",
              "      <td>5.723360</td>\n",
              "      <td>NaN</td>\n",
              "      <td>NaN</td>\n",
              "      <td>NaN</td>\n",
              "      <td>NaN</td>\n",
              "      <td>0.0</td>\n",
              "      <td>50813.627300</td>\n",
              "      <td>NaN</td>\n",
              "    </tr>\n",
              "    <tr>\n",
              "      <th>std</th>\n",
              "      <td>NaN</td>\n",
              "      <td>NaN</td>\n",
              "      <td>NaN</td>\n",
              "      <td>NaN</td>\n",
              "      <td>NaN</td>\n",
              "      <td>NaN</td>\n",
              "      <td>NaN</td>\n",
              "      <td>105.712813</td>\n",
              "      <td>NaN</td>\n",
              "      <td>209.216627</td>\n",
              "      <td>NaN</td>\n",
              "      <td>NaN</td>\n",
              "      <td>3.711984</td>\n",
              "      <td>NaN</td>\n",
              "      <td>NaN</td>\n",
              "      <td>NaN</td>\n",
              "      <td>NaN</td>\n",
              "      <td>0.0</td>\n",
              "      <td>25779.747957</td>\n",
              "      <td>NaN</td>\n",
              "    </tr>\n",
              "    <tr>\n",
              "      <th>min</th>\n",
              "      <td>NaN</td>\n",
              "      <td>NaN</td>\n",
              "      <td>NaN</td>\n",
              "      <td>NaN</td>\n",
              "      <td>NaN</td>\n",
              "      <td>NaN</td>\n",
              "      <td>NaN</td>\n",
              "      <td>1000.000000</td>\n",
              "      <td>NaN</td>\n",
              "      <td>0.000000</td>\n",
              "      <td>NaN</td>\n",
              "      <td>NaN</td>\n",
              "      <td>0.000000</td>\n",
              "      <td>NaN</td>\n",
              "      <td>NaN</td>\n",
              "      <td>NaN</td>\n",
              "      <td>NaN</td>\n",
              "      <td>0.0</td>\n",
              "      <td>1067.000000</td>\n",
              "      <td>NaN</td>\n",
              "    </tr>\n",
              "    <tr>\n",
              "      <th>25%</th>\n",
              "      <td>NaN</td>\n",
              "      <td>NaN</td>\n",
              "      <td>NaN</td>\n",
              "      <td>NaN</td>\n",
              "      <td>NaN</td>\n",
              "      <td>NaN</td>\n",
              "      <td>NaN</td>\n",
              "      <td>1999.000000</td>\n",
              "      <td>NaN</td>\n",
              "      <td>70.000000</td>\n",
              "      <td>NaN</td>\n",
              "      <td>NaN</td>\n",
              "      <td>3.000000</td>\n",
              "      <td>NaN</td>\n",
              "      <td>NaN</td>\n",
              "      <td>NaN</td>\n",
              "      <td>NaN</td>\n",
              "      <td>0.0</td>\n",
              "      <td>30451.000000</td>\n",
              "      <td>NaN</td>\n",
              "    </tr>\n",
              "    <tr>\n",
              "      <th>50%</th>\n",
              "      <td>NaN</td>\n",
              "      <td>NaN</td>\n",
              "      <td>NaN</td>\n",
              "      <td>NaN</td>\n",
              "      <td>NaN</td>\n",
              "      <td>NaN</td>\n",
              "      <td>NaN</td>\n",
              "      <td>2003.000000</td>\n",
              "      <td>NaN</td>\n",
              "      <td>105.000000</td>\n",
              "      <td>NaN</td>\n",
              "      <td>NaN</td>\n",
              "      <td>6.000000</td>\n",
              "      <td>NaN</td>\n",
              "      <td>NaN</td>\n",
              "      <td>NaN</td>\n",
              "      <td>NaN</td>\n",
              "      <td>0.0</td>\n",
              "      <td>49577.000000</td>\n",
              "      <td>NaN</td>\n",
              "    </tr>\n",
              "    <tr>\n",
              "      <th>75%</th>\n",
              "      <td>NaN</td>\n",
              "      <td>NaN</td>\n",
              "      <td>NaN</td>\n",
              "      <td>NaN</td>\n",
              "      <td>NaN</td>\n",
              "      <td>NaN</td>\n",
              "      <td>NaN</td>\n",
              "      <td>2008.000000</td>\n",
              "      <td>NaN</td>\n",
              "      <td>150.000000</td>\n",
              "      <td>NaN</td>\n",
              "      <td>NaN</td>\n",
              "      <td>9.000000</td>\n",
              "      <td>NaN</td>\n",
              "      <td>NaN</td>\n",
              "      <td>NaN</td>\n",
              "      <td>NaN</td>\n",
              "      <td>0.0</td>\n",
              "      <td>71540.000000</td>\n",
              "      <td>NaN</td>\n",
              "    </tr>\n",
              "    <tr>\n",
              "      <th>max</th>\n",
              "      <td>NaN</td>\n",
              "      <td>NaN</td>\n",
              "      <td>NaN</td>\n",
              "      <td>NaN</td>\n",
              "      <td>NaN</td>\n",
              "      <td>NaN</td>\n",
              "      <td>NaN</td>\n",
              "      <td>9999.000000</td>\n",
              "      <td>NaN</td>\n",
              "      <td>17700.000000</td>\n",
              "      <td>NaN</td>\n",
              "      <td>NaN</td>\n",
              "      <td>12.000000</td>\n",
              "      <td>NaN</td>\n",
              "      <td>NaN</td>\n",
              "      <td>NaN</td>\n",
              "      <td>NaN</td>\n",
              "      <td>0.0</td>\n",
              "      <td>99998.000000</td>\n",
              "      <td>NaN</td>\n",
              "    </tr>\n",
              "  </tbody>\n",
              "</table>\n",
              "</div>"
            ],
            "text/plain": [
              "               date_crawled         name  ...   postal_code            last_seen\n",
              "count                 50000        50000  ...  50000.000000                50000\n",
              "unique                48213        38754  ...           NaN                39481\n",
              "top     2016-03-10 15:36:24  Ford_Fiesta  ...           NaN  2016-04-07 06:17:27\n",
              "freq                      3           78  ...           NaN                    8\n",
              "mean                    NaN          NaN  ...  50813.627300                  NaN\n",
              "std                     NaN          NaN  ...  25779.747957                  NaN\n",
              "min                     NaN          NaN  ...   1067.000000                  NaN\n",
              "25%                     NaN          NaN  ...  30451.000000                  NaN\n",
              "50%                     NaN          NaN  ...  49577.000000                  NaN\n",
              "75%                     NaN          NaN  ...  71540.000000                  NaN\n",
              "max                     NaN          NaN  ...  99998.000000                  NaN\n",
              "\n",
              "[11 rows x 20 columns]"
            ]
          },
          "metadata": {
            "tags": []
          },
          "execution_count": 6
        }
      ]
    },
    {
      "cell_type": "markdown",
      "metadata": {
        "id": "7CY8L9p7zZTa",
        "colab_type": "text"
      },
      "source": [
        "- In here, one can see that `seller` and `offer type` contains all the same values.\n",
        "- Along with this `num_photos` column values are mostly `NaN`, this needs further investigation."
      ]
    },
    {
      "cell_type": "code",
      "metadata": {
        "id": "oOfDtMuFyava",
        "colab_type": "code",
        "colab": {
          "base_uri": "https://localhost:8080/",
          "height": 153
        },
        "outputId": "e2c61c06-81f1-42c4-b7fb-a0342d65c3e0"
      },
      "source": [
        "print(autos['num_photos'].head())\n",
        "autos['num_photos'].value_counts()"
      ],
      "execution_count": 7,
      "outputs": [
        {
          "output_type": "stream",
          "text": [
            "0    0\n",
            "1    0\n",
            "2    0\n",
            "3    0\n",
            "4    0\n",
            "Name: num_photos, dtype: int64\n"
          ],
          "name": "stdout"
        },
        {
          "output_type": "execute_result",
          "data": {
            "text/plain": [
              "0    50000\n",
              "Name: num_photos, dtype: int64"
            ]
          },
          "metadata": {
            "tags": []
          },
          "execution_count": 7
        }
      ]
    },
    {
      "cell_type": "markdown",
      "metadata": {
        "id": "PcHrD5E80y4J",
        "colab_type": "text"
      },
      "source": [
        "As one can see, the `num_photos` column has `0` for every column. Hence, these three columns: `seller`, `offer_type` and `num_photos` will be dropped as all three contains one value."
      ]
    },
    {
      "cell_type": "code",
      "metadata": {
        "id": "fUz1HkAx1lKi",
        "colab_type": "code",
        "colab": {}
      },
      "source": [
        "autos = autos.drop([\"num_photos\", \"seller\", \"offer_type\"], axis=1)"
      ],
      "execution_count": 8,
      "outputs": []
    },
    {
      "cell_type": "markdown",
      "metadata": {
        "id": "Q2HQx4z41rnx",
        "colab_type": "text"
      },
      "source": [
        "`price` and `odometer`, contains numeric values with extra characters being stored as text. Next step is to clean and convert these."
      ]
    },
    {
      "cell_type": "code",
      "metadata": {
        "id": "8UoeBpcl2VLR",
        "colab_type": "code",
        "colab": {
          "base_uri": "https://localhost:8080/",
          "height": 119
        },
        "outputId": "24df1cf7-99d1-4527-f41e-18cd877f4f2a"
      },
      "source": [
        "autos['price'] = autos['price'].str.replace(\"$\",\"\")\n",
        "autos['price'] = autos['price'].str.replace(\",\",\"\")\n",
        "\n",
        "autos['price'] = autos['price'].astype(int)\n",
        "\n",
        "autos['price'].head()"
      ],
      "execution_count": 9,
      "outputs": [
        {
          "output_type": "execute_result",
          "data": {
            "text/plain": [
              "0    5000\n",
              "1    8500\n",
              "2    8990\n",
              "3    4350\n",
              "4    1350\n",
              "Name: price, dtype: int64"
            ]
          },
          "metadata": {
            "tags": []
          },
          "execution_count": 9
        }
      ]
    },
    {
      "cell_type": "code",
      "metadata": {
        "id": "DQkakE5l3NFY",
        "colab_type": "code",
        "colab": {
          "base_uri": "https://localhost:8080/",
          "height": 119
        },
        "outputId": "abb69398-d7c1-4b7e-860c-6260231db436"
      },
      "source": [
        "autos['odometer'] = autos['odometer'].str.replace(\"km\",\"\")\n",
        "autos['odometer'] = autos['odometer'].str.replace(\",\",\"\")\n",
        "\n",
        "autos['odometer'] = autos['odometer'].astype(int)\n",
        "\n",
        "autos.rename({'odometer' : 'odometer_km'},axis=1,inplace=True)\n",
        "#autos.rename({\"odometer\": \"odometer_km\"}, axis=1, inplace=True)\n",
        "autos['odometer_km'].head()"
      ],
      "execution_count": 10,
      "outputs": [
        {
          "output_type": "execute_result",
          "data": {
            "text/plain": [
              "0    150000\n",
              "1    150000\n",
              "2     70000\n",
              "3     70000\n",
              "4    150000\n",
              "Name: odometer_km, dtype: int64"
            ]
          },
          "metadata": {
            "tags": []
          },
          "execution_count": 10
        }
      ]
    },
    {
      "cell_type": "markdown",
      "metadata": {
        "id": "pEPtJhgS5AYs",
        "colab_type": "text"
      },
      "source": [
        "Now we have cleaned the data initially. After this, we would do the following task.\n",
        "\n",
        "**3.) Exploring the Odometer and Price Columns**\n",
        "\n",
        "Let's continue exploring the data, specifically looking for data that doesn't look right. We'll start by analyzing the `odometer_km` and `price` columns."
      ]
    },
    {
      "cell_type": "code",
      "metadata": {
        "id": "lyq5qwX4s49l",
        "colab_type": "code",
        "colab": {
          "base_uri": "https://localhost:8080/",
          "height": 34
        },
        "outputId": "e0b59540-735b-42f6-f378-8f3105af2e17"
      },
      "source": [
        "autos[\"odometer_km\"].unique().shape"
      ],
      "execution_count": 11,
      "outputs": [
        {
          "output_type": "execute_result",
          "data": {
            "text/plain": [
              "(13,)"
            ]
          },
          "metadata": {
            "tags": []
          },
          "execution_count": 11
        }
      ]
    },
    {
      "cell_type": "code",
      "metadata": {
        "id": "jHlqnOcXt9z1",
        "colab_type": "code",
        "colab": {
          "base_uri": "https://localhost:8080/",
          "height": 170
        },
        "outputId": "4d4031d6-a384-40fb-8c05-83c7350fbca9"
      },
      "source": [
        "autos[\"odometer_km\"].describe()"
      ],
      "execution_count": 12,
      "outputs": [
        {
          "output_type": "execute_result",
          "data": {
            "text/plain": [
              "count     50000.000000\n",
              "mean     125732.700000\n",
              "std       40042.211706\n",
              "min        5000.000000\n",
              "25%      125000.000000\n",
              "50%      150000.000000\n",
              "75%      150000.000000\n",
              "max      150000.000000\n",
              "Name: odometer_km, dtype: float64"
            ]
          },
          "metadata": {
            "tags": []
          },
          "execution_count": 12
        }
      ]
    },
    {
      "cell_type": "code",
      "metadata": {
        "id": "JBrYtqg1uKBz",
        "colab_type": "code",
        "colab": {
          "base_uri": "https://localhost:8080/",
          "height": 119
        },
        "outputId": "52b97ea1-ad5c-4588-fb0e-279ca42d21e4"
      },
      "source": [
        "autos[\"odometer_km\"].value_counts().head().sort_index(ascending = False)"
      ],
      "execution_count": 13,
      "outputs": [
        {
          "output_type": "execute_result",
          "data": {
            "text/plain": [
              "150000    32424\n",
              "125000     5170\n",
              "100000     2169\n",
              "90000      1757\n",
              "80000      1436\n",
              "Name: odometer_km, dtype: int64"
            ]
          },
          "metadata": {
            "tags": []
          },
          "execution_count": 13
        }
      ]
    },
    {
      "cell_type": "markdown",
      "metadata": {
        "id": "U7u_LPcXvTGk",
        "colab_type": "text"
      },
      "source": [
        "We can't see null or false data in the `odometer` column. There are 13 unique values Also, there are more vehicles with high mileages than low mileages.\n",
        "\n"
      ]
    },
    {
      "cell_type": "code",
      "metadata": {
        "id": "wVnH9WaW1qyD",
        "colab_type": "code",
        "colab": {
          "base_uri": "https://localhost:8080/",
          "height": 34
        },
        "outputId": "99bc0f8c-395a-46ce-8e94-b386b6c17888"
      },
      "source": [
        "autos[\"price\"].shape"
      ],
      "execution_count": 14,
      "outputs": [
        {
          "output_type": "execute_result",
          "data": {
            "text/plain": [
              "(50000,)"
            ]
          },
          "metadata": {
            "tags": []
          },
          "execution_count": 14
        }
      ]
    },
    {
      "cell_type": "code",
      "metadata": {
        "id": "O3t2As6KvqES",
        "colab_type": "code",
        "colab": {
          "base_uri": "https://localhost:8080/",
          "height": 34
        },
        "outputId": "ea476768-3200-4087-cdd4-63abd9ce982b"
      },
      "source": [
        "autos[\"price\"].unique().shape"
      ],
      "execution_count": 15,
      "outputs": [
        {
          "output_type": "execute_result",
          "data": {
            "text/plain": [
              "(2357,)"
            ]
          },
          "metadata": {
            "tags": []
          },
          "execution_count": 15
        }
      ]
    },
    {
      "cell_type": "code",
      "metadata": {
        "id": "Das6kB6zv2kK",
        "colab_type": "code",
        "colab": {
          "base_uri": "https://localhost:8080/",
          "height": 170
        },
        "outputId": "3b52a3ff-a8c8-4ffe-ca55-6f7cb69905dd"
      },
      "source": [
        "autos[\"price\"].describe(include = 'all')"
      ],
      "execution_count": 16,
      "outputs": [
        {
          "output_type": "execute_result",
          "data": {
            "text/plain": [
              "count    5.000000e+04\n",
              "mean     9.840044e+03\n",
              "std      4.811044e+05\n",
              "min      0.000000e+00\n",
              "25%      1.100000e+03\n",
              "50%      2.950000e+03\n",
              "75%      7.200000e+03\n",
              "max      1.000000e+08\n",
              "Name: price, dtype: float64"
            ]
          },
          "metadata": {
            "tags": []
          },
          "execution_count": 16
        }
      ]
    },
    {
      "cell_type": "code",
      "metadata": {
        "id": "b0jMg4_wwP3z",
        "colab_type": "code",
        "colab": {
          "base_uri": "https://localhost:8080/",
          "height": 221
        },
        "outputId": "2aa88728-9a14-461d-dd7c-00c6a384f3a7"
      },
      "source": [
        "autos[\"price\"].value_counts().sort_index(ascending = True)"
      ],
      "execution_count": 17,
      "outputs": [
        {
          "output_type": "execute_result",
          "data": {
            "text/plain": [
              "0           1421\n",
              "1            156\n",
              "2              3\n",
              "3              1\n",
              "5              2\n",
              "            ... \n",
              "10000000       1\n",
              "11111111       2\n",
              "12345678       3\n",
              "27322222       1\n",
              "99999999       1\n",
              "Name: price, Length: 2357, dtype: int64"
            ]
          },
          "metadata": {
            "tags": []
          },
          "execution_count": 17
        }
      ]
    },
    {
      "cell_type": "markdown",
      "metadata": {
        "id": "JzCppG94wOZF",
        "colab_type": "text"
      },
      "source": [
        "There are 2357 unique values. All values are mainly rounded that totally depends on the data entry operator how he enter the data. Whether he rounds the data or just fill the accurate data.\n",
        "Also, there are 1421 values that have $0 price which is incorrect, so we will remove these values. Furthermore, highest value is one hundred million dollars, which sounds unreasonable or inaccurate data.\n",
        "\n",
        "Let's inspect this highest data values."
      ]
    },
    {
      "cell_type": "code",
      "metadata": {
        "id": "Xrdu6fTUy6EM",
        "colab_type": "code",
        "colab": {
          "base_uri": "https://localhost:8080/",
          "height": 374
        },
        "outputId": "3bf66d0f-7ad1-4e23-c019-88768d5a9aae"
      },
      "source": [
        "autos[\"price\"].value_counts().sort_index(ascending = False).head(20)"
      ],
      "execution_count": 18,
      "outputs": [
        {
          "output_type": "execute_result",
          "data": {
            "text/plain": [
              "99999999    1\n",
              "27322222    1\n",
              "12345678    3\n",
              "11111111    2\n",
              "10000000    1\n",
              "3890000     1\n",
              "1300000     1\n",
              "1234566     1\n",
              "999999      2\n",
              "999990      1\n",
              "350000      1\n",
              "345000      1\n",
              "299000      1\n",
              "295000      1\n",
              "265000      1\n",
              "259000      1\n",
              "250000      1\n",
              "220000      1\n",
              "198000      1\n",
              "197000      1\n",
              "Name: price, dtype: int64"
            ]
          },
          "metadata": {
            "tags": []
          },
          "execution_count": 18
        }
      ]
    },
    {
      "cell_type": "code",
      "metadata": {
        "id": "g9ngHnl-zzpR",
        "colab_type": "code",
        "colab": {
          "base_uri": "https://localhost:8080/",
          "height": 374
        },
        "outputId": "a1363259-f231-4579-da16-6dc00ab3d306"
      },
      "source": [
        "autos[\"price\"].value_counts().sort_index(ascending = True).head(20)"
      ],
      "execution_count": 19,
      "outputs": [
        {
          "output_type": "execute_result",
          "data": {
            "text/plain": [
              "0     1421\n",
              "1      156\n",
              "2        3\n",
              "3        1\n",
              "5        2\n",
              "8        1\n",
              "9        1\n",
              "10       7\n",
              "11       2\n",
              "12       3\n",
              "13       2\n",
              "14       1\n",
              "15       2\n",
              "17       3\n",
              "18       1\n",
              "20       4\n",
              "25       5\n",
              "29       1\n",
              "30       7\n",
              "35       1\n",
              "Name: price, dtype: int64"
            ]
          },
          "metadata": {
            "tags": []
          },
          "execution_count": 19
        }
      ]
    },
    {
      "cell_type": "markdown",
      "metadata": {
        "id": "kQLCOQ_cz86C",
        "colab_type": "text"
      },
      "source": [
        "We can see the price from highest to lowest one. Lowest can be `$1` because ebay is an auction site, but we will remove any value higher than `$350,000`.\n",
        "\n",
        "Let's remove the outliers."
      ]
    },
    {
      "cell_type": "code",
      "metadata": {
        "id": "TXAHvpCz0gUN",
        "colab_type": "code",
        "colab": {
          "base_uri": "https://localhost:8080/",
          "height": 170
        },
        "outputId": "a4dcb04c-84f0-4462-9ca2-22ef76916aa1"
      },
      "source": [
        "autos = autos.loc[autos[\"price\"].between(1,351000),:]\n",
        "autos[\"price\"].describe()"
      ],
      "execution_count": 20,
      "outputs": [
        {
          "output_type": "execute_result",
          "data": {
            "text/plain": [
              "count     48565.000000\n",
              "mean       5888.935591\n",
              "std        9059.854754\n",
              "min           1.000000\n",
              "25%        1200.000000\n",
              "50%        3000.000000\n",
              "75%        7490.000000\n",
              "max      350000.000000\n",
              "Name: price, dtype: float64"
            ]
          },
          "metadata": {
            "tags": []
          },
          "execution_count": 20
        }
      ]
    },
    {
      "cell_type": "code",
      "metadata": {
        "id": "rauOvPcw1BYD",
        "colab_type": "code",
        "colab": {
          "base_uri": "https://localhost:8080/",
          "height": 34
        },
        "outputId": "56b75abc-7253-4bc3-d5cd-80fe4910cb9b"
      },
      "source": [
        "autos['price'].shape"
      ],
      "execution_count": 21,
      "outputs": [
        {
          "output_type": "execute_result",
          "data": {
            "text/plain": [
              "(48565,)"
            ]
          },
          "metadata": {
            "tags": []
          },
          "execution_count": 21
        }
      ]
    },
    {
      "cell_type": "markdown",
      "metadata": {
        "id": "mw6OARTq00u-",
        "colab_type": "text"
      },
      "source": [
        "Here, we can see that the minimum and maximum values have been optimized.\n",
        "Let's move to date columns and explore it.\n",
        "\n",
        "**4.) Exploring the date columns**"
      ]
    },
    {
      "cell_type": "code",
      "metadata": {
        "id": "yPQJfvMu45Ut",
        "colab_type": "code",
        "colab": {
          "base_uri": "https://localhost:8080/",
          "height": 204
        },
        "outputId": "fbfa4a19-cc71-48e7-e706-71126c38d8ff"
      },
      "source": [
        "autos[['date_crawled','ad_created','last_seen']][0:5]"
      ],
      "execution_count": 22,
      "outputs": [
        {
          "output_type": "execute_result",
          "data": {
            "text/html": [
              "<div>\n",
              "<style scoped>\n",
              "    .dataframe tbody tr th:only-of-type {\n",
              "        vertical-align: middle;\n",
              "    }\n",
              "\n",
              "    .dataframe tbody tr th {\n",
              "        vertical-align: top;\n",
              "    }\n",
              "\n",
              "    .dataframe thead th {\n",
              "        text-align: right;\n",
              "    }\n",
              "</style>\n",
              "<table border=\"1\" class=\"dataframe\">\n",
              "  <thead>\n",
              "    <tr style=\"text-align: right;\">\n",
              "      <th></th>\n",
              "      <th>date_crawled</th>\n",
              "      <th>ad_created</th>\n",
              "      <th>last_seen</th>\n",
              "    </tr>\n",
              "  </thead>\n",
              "  <tbody>\n",
              "    <tr>\n",
              "      <th>0</th>\n",
              "      <td>2016-03-26 17:47:46</td>\n",
              "      <td>2016-03-26 00:00:00</td>\n",
              "      <td>2016-04-06 06:45:54</td>\n",
              "    </tr>\n",
              "    <tr>\n",
              "      <th>1</th>\n",
              "      <td>2016-04-04 13:38:56</td>\n",
              "      <td>2016-04-04 00:00:00</td>\n",
              "      <td>2016-04-06 14:45:08</td>\n",
              "    </tr>\n",
              "    <tr>\n",
              "      <th>2</th>\n",
              "      <td>2016-03-26 18:57:24</td>\n",
              "      <td>2016-03-26 00:00:00</td>\n",
              "      <td>2016-04-06 20:15:37</td>\n",
              "    </tr>\n",
              "    <tr>\n",
              "      <th>3</th>\n",
              "      <td>2016-03-12 16:58:10</td>\n",
              "      <td>2016-03-12 00:00:00</td>\n",
              "      <td>2016-03-15 03:16:28</td>\n",
              "    </tr>\n",
              "    <tr>\n",
              "      <th>4</th>\n",
              "      <td>2016-04-01 14:38:50</td>\n",
              "      <td>2016-04-01 00:00:00</td>\n",
              "      <td>2016-04-01 14:38:50</td>\n",
              "    </tr>\n",
              "  </tbody>\n",
              "</table>\n",
              "</div>"
            ],
            "text/plain": [
              "          date_crawled           ad_created            last_seen\n",
              "0  2016-03-26 17:47:46  2016-03-26 00:00:00  2016-04-06 06:45:54\n",
              "1  2016-04-04 13:38:56  2016-04-04 00:00:00  2016-04-06 14:45:08\n",
              "2  2016-03-26 18:57:24  2016-03-26 00:00:00  2016-04-06 20:15:37\n",
              "3  2016-03-12 16:58:10  2016-03-12 00:00:00  2016-03-15 03:16:28\n",
              "4  2016-04-01 14:38:50  2016-04-01 00:00:00  2016-04-01 14:38:50"
            ]
          },
          "metadata": {
            "tags": []
          },
          "execution_count": 22
        }
      ]
    },
    {
      "cell_type": "code",
      "metadata": {
        "id": "PZ1TyYMf5XoJ",
        "colab_type": "code",
        "colab": {
          "base_uri": "https://localhost:8080/",
          "height": 612
        },
        "outputId": "bed00531-a2db-4fc4-e369-773b44b71ed7"
      },
      "source": [
        "autos['date_crawled'].str[:10].value_counts(normalize=True, dropna=False).sort_index(ascending=True)"
      ],
      "execution_count": 23,
      "outputs": [
        {
          "output_type": "execute_result",
          "data": {
            "text/plain": [
              "2016-03-05    0.025327\n",
              "2016-03-06    0.014043\n",
              "2016-03-07    0.036014\n",
              "2016-03-08    0.033296\n",
              "2016-03-09    0.033090\n",
              "2016-03-10    0.032184\n",
              "2016-03-11    0.032575\n",
              "2016-03-12    0.036920\n",
              "2016-03-13    0.015670\n",
              "2016-03-14    0.036549\n",
              "2016-03-15    0.034284\n",
              "2016-03-16    0.029610\n",
              "2016-03-17    0.031628\n",
              "2016-03-18    0.012911\n",
              "2016-03-19    0.034778\n",
              "2016-03-20    0.037887\n",
              "2016-03-21    0.037373\n",
              "2016-03-22    0.032987\n",
              "2016-03-23    0.032225\n",
              "2016-03-24    0.029342\n",
              "2016-03-25    0.031607\n",
              "2016-03-26    0.032204\n",
              "2016-03-27    0.031092\n",
              "2016-03-28    0.034860\n",
              "2016-03-29    0.034099\n",
              "2016-03-30    0.033687\n",
              "2016-03-31    0.031834\n",
              "2016-04-01    0.033687\n",
              "2016-04-02    0.035478\n",
              "2016-04-03    0.038608\n",
              "2016-04-04    0.036487\n",
              "2016-04-05    0.013096\n",
              "2016-04-06    0.003171\n",
              "2016-04-07    0.001400\n",
              "Name: date_crawled, dtype: float64"
            ]
          },
          "metadata": {
            "tags": []
          },
          "execution_count": 23
        }
      ]
    },
    {
      "cell_type": "code",
      "metadata": {
        "id": "ELCPp8jTNEi6",
        "colab_type": "code",
        "colab": {
          "base_uri": "https://localhost:8080/",
          "height": 612
        },
        "outputId": "14bb6ba9-c151-4350-da3d-c09794af0290"
      },
      "source": [
        "autos['date_crawled'].str[:10].value_counts(normalize=True, dropna=False).sort_index(ascending=False)"
      ],
      "execution_count": 24,
      "outputs": [
        {
          "output_type": "execute_result",
          "data": {
            "text/plain": [
              "2016-04-07    0.001400\n",
              "2016-04-06    0.003171\n",
              "2016-04-05    0.013096\n",
              "2016-04-04    0.036487\n",
              "2016-04-03    0.038608\n",
              "2016-04-02    0.035478\n",
              "2016-04-01    0.033687\n",
              "2016-03-31    0.031834\n",
              "2016-03-30    0.033687\n",
              "2016-03-29    0.034099\n",
              "2016-03-28    0.034860\n",
              "2016-03-27    0.031092\n",
              "2016-03-26    0.032204\n",
              "2016-03-25    0.031607\n",
              "2016-03-24    0.029342\n",
              "2016-03-23    0.032225\n",
              "2016-03-22    0.032987\n",
              "2016-03-21    0.037373\n",
              "2016-03-20    0.037887\n",
              "2016-03-19    0.034778\n",
              "2016-03-18    0.012911\n",
              "2016-03-17    0.031628\n",
              "2016-03-16    0.029610\n",
              "2016-03-15    0.034284\n",
              "2016-03-14    0.036549\n",
              "2016-03-13    0.015670\n",
              "2016-03-12    0.036920\n",
              "2016-03-11    0.032575\n",
              "2016-03-10    0.032184\n",
              "2016-03-09    0.033090\n",
              "2016-03-08    0.033296\n",
              "2016-03-07    0.036014\n",
              "2016-03-06    0.014043\n",
              "2016-03-05    0.025327\n",
              "Name: date_crawled, dtype: float64"
            ]
          },
          "metadata": {
            "tags": []
          },
          "execution_count": 24
        }
      ]
    },
    {
      "cell_type": "markdown",
      "metadata": {
        "id": "S0iaCM--Mfwu",
        "colab_type": "text"
      },
      "source": [
        "In here, Ebay site was crawled daily between March and April 2016. After normalizing data, it seems the distribution is normal."
      ]
    },
    {
      "cell_type": "code",
      "metadata": {
        "id": "uojG9QpLL8zS",
        "colab_type": "code",
        "colab": {
          "base_uri": "https://localhost:8080/",
          "height": 221
        },
        "outputId": "60d79916-652e-4440-e659-48e79b8e51c1"
      },
      "source": [
        "autos['ad_created'].str[:10].value_counts(normalize=True, dropna=False).sort_index(ascending=True)"
      ],
      "execution_count": 25,
      "outputs": [
        {
          "output_type": "execute_result",
          "data": {
            "text/plain": [
              "2015-06-11    0.000021\n",
              "2015-08-10    0.000021\n",
              "2015-09-09    0.000021\n",
              "2015-11-10    0.000021\n",
              "2015-12-05    0.000021\n",
              "                ...   \n",
              "2016-04-03    0.038855\n",
              "2016-04-04    0.036858\n",
              "2016-04-05    0.011819\n",
              "2016-04-06    0.003253\n",
              "2016-04-07    0.001256\n",
              "Name: ad_created, Length: 76, dtype: float64"
            ]
          },
          "metadata": {
            "tags": []
          },
          "execution_count": 25
        }
      ]
    },
    {
      "cell_type": "code",
      "metadata": {
        "id": "dPukDj0gbUKj",
        "colab_type": "code",
        "colab": {
          "base_uri": "https://localhost:8080/",
          "height": 221
        },
        "outputId": "47b7604c-a514-42c7-c3ab-9598f1875718"
      },
      "source": [
        "autos['ad_created'].str[:10].value_counts(normalize=True, dropna=False).sort_index(ascending=False)"
      ],
      "execution_count": 26,
      "outputs": [
        {
          "output_type": "execute_result",
          "data": {
            "text/plain": [
              "2016-04-07    0.001256\n",
              "2016-04-06    0.003253\n",
              "2016-04-05    0.011819\n",
              "2016-04-04    0.036858\n",
              "2016-04-03    0.038855\n",
              "                ...   \n",
              "2015-12-05    0.000021\n",
              "2015-11-10    0.000021\n",
              "2015-09-09    0.000021\n",
              "2015-08-10    0.000021\n",
              "2015-06-11    0.000021\n",
              "Name: ad_created, Length: 76, dtype: float64"
            ]
          },
          "metadata": {
            "tags": []
          },
          "execution_count": 26
        }
      ]
    },
    {
      "cell_type": "markdown",
      "metadata": {
        "id": "_c7tOTmybi_y",
        "colab_type": "text"
      },
      "source": [
        "There are many `ad created` dates. Mostly they are between 1-2 months of the listing date, but a few are quite old, with the oldest at around 9 months."
      ]
    },
    {
      "cell_type": "code",
      "metadata": {
        "id": "imZDpICPMKG3",
        "colab_type": "code",
        "colab": {
          "base_uri": "https://localhost:8080/",
          "height": 612
        },
        "outputId": "e55de9fa-c653-41ed-b038-bc77113d06fe"
      },
      "source": [
        "autos['last_seen'].str[:10].value_counts(normalize=True, dropna=False).sort_index(ascending=True)"
      ],
      "execution_count": 27,
      "outputs": [
        {
          "output_type": "execute_result",
          "data": {
            "text/plain": [
              "2016-03-05    0.001071\n",
              "2016-03-06    0.004324\n",
              "2016-03-07    0.005395\n",
              "2016-03-08    0.007413\n",
              "2016-03-09    0.009595\n",
              "2016-03-10    0.010666\n",
              "2016-03-11    0.012375\n",
              "2016-03-12    0.023783\n",
              "2016-03-13    0.008895\n",
              "2016-03-14    0.012602\n",
              "2016-03-15    0.015876\n",
              "2016-03-16    0.016452\n",
              "2016-03-17    0.028086\n",
              "2016-03-18    0.007351\n",
              "2016-03-19    0.015834\n",
              "2016-03-20    0.020653\n",
              "2016-03-21    0.020632\n",
              "2016-03-22    0.021373\n",
              "2016-03-23    0.018532\n",
              "2016-03-24    0.019767\n",
              "2016-03-25    0.019211\n",
              "2016-03-26    0.016802\n",
              "2016-03-27    0.015649\n",
              "2016-03-28    0.020859\n",
              "2016-03-29    0.022341\n",
              "2016-03-30    0.024771\n",
              "2016-03-31    0.023783\n",
              "2016-04-01    0.022794\n",
              "2016-04-02    0.024915\n",
              "2016-04-03    0.025203\n",
              "2016-04-04    0.024483\n",
              "2016-04-05    0.124761\n",
              "2016-04-06    0.221806\n",
              "2016-04-07    0.131947\n",
              "Name: last_seen, dtype: float64"
            ]
          },
          "metadata": {
            "tags": []
          },
          "execution_count": 27
        }
      ]
    },
    {
      "cell_type": "code",
      "metadata": {
        "id": "5AfEC33mb7On",
        "colab_type": "code",
        "colab": {
          "base_uri": "https://localhost:8080/",
          "height": 612
        },
        "outputId": "da633ec1-f3d9-48fb-b05f-6d680b5552e7"
      },
      "source": [
        "autos['last_seen'].str[:10].value_counts(normalize=True, dropna=False).sort_index(ascending=False)"
      ],
      "execution_count": 28,
      "outputs": [
        {
          "output_type": "execute_result",
          "data": {
            "text/plain": [
              "2016-04-07    0.131947\n",
              "2016-04-06    0.221806\n",
              "2016-04-05    0.124761\n",
              "2016-04-04    0.024483\n",
              "2016-04-03    0.025203\n",
              "2016-04-02    0.024915\n",
              "2016-04-01    0.022794\n",
              "2016-03-31    0.023783\n",
              "2016-03-30    0.024771\n",
              "2016-03-29    0.022341\n",
              "2016-03-28    0.020859\n",
              "2016-03-27    0.015649\n",
              "2016-03-26    0.016802\n",
              "2016-03-25    0.019211\n",
              "2016-03-24    0.019767\n",
              "2016-03-23    0.018532\n",
              "2016-03-22    0.021373\n",
              "2016-03-21    0.020632\n",
              "2016-03-20    0.020653\n",
              "2016-03-19    0.015834\n",
              "2016-03-18    0.007351\n",
              "2016-03-17    0.028086\n",
              "2016-03-16    0.016452\n",
              "2016-03-15    0.015876\n",
              "2016-03-14    0.012602\n",
              "2016-03-13    0.008895\n",
              "2016-03-12    0.023783\n",
              "2016-03-11    0.012375\n",
              "2016-03-10    0.010666\n",
              "2016-03-09    0.009595\n",
              "2016-03-08    0.007413\n",
              "2016-03-07    0.005395\n",
              "2016-03-06    0.004324\n",
              "2016-03-05    0.001071\n",
              "Name: last_seen, dtype: float64"
            ]
          },
          "metadata": {
            "tags": []
          },
          "execution_count": 28
        }
      ]
    },
    {
      "cell_type": "markdown",
      "metadata": {
        "id": "aOziNeijcZ_H",
        "colab_type": "text"
      },
      "source": [
        "The date_crawled data provides us about any listing that it last saw. This helps us to determine on what day a listing was removed, with an assumption that the car was sold.\n",
        "\n",
        "As you can seen the normalized `last seen` data which seems disproportionate at last three days. Its value is by far large from other normalized values.\n",
        "\n",
        "It is very unlikely that there was a massive spike in sales and these values are more likley related to crawling period ending."
      ]
    },
    {
      "cell_type": "code",
      "metadata": {
        "id": "jwL1BKdSdSnT",
        "colab_type": "code",
        "colab": {
          "base_uri": "https://localhost:8080/",
          "height": 170
        },
        "outputId": "61c9cdaa-62b2-445c-d69b-b80a2a29d66b"
      },
      "source": [
        "autos['registration_year'].describe()"
      ],
      "execution_count": 29,
      "outputs": [
        {
          "output_type": "execute_result",
          "data": {
            "text/plain": [
              "count    48565.000000\n",
              "mean      2004.755421\n",
              "std         88.643887\n",
              "min       1000.000000\n",
              "25%       1999.000000\n",
              "50%       2004.000000\n",
              "75%       2008.000000\n",
              "max       9999.000000\n",
              "Name: registration_year, dtype: float64"
            ]
          },
          "metadata": {
            "tags": []
          },
          "execution_count": 29
        }
      ]
    },
    {
      "cell_type": "markdown",
      "metadata": {
        "id": "QUVH6nLzdiBU",
        "colab_type": "text"
      },
      "source": [
        "`registration_year` tells us about the day car is registered. This can be used to determine the age of the car. But as you can look at the maximum and minimum year it is false car can't be from rock age or future age.So, our next task would be dealing with these wrong registration date data.\n",
        "\n",
        "**5.) Dealing with Incorrect Registration Year Data**\n",
        "\n",
        "\n",
        "*   The minimum value is 1000, before cars were even born (just a pun).\n",
        "*   The maximum value is 9999, many years into the future in the age of `'Jetsons'`.\n",
        "\n",
        "Because a car can't be first registered after the listing was seen, any vehicle with a registration year above 2016 is definitely inaccurate.\n",
        "\n",
        "Let's count the number of listings with cars that fall outside the 1900 - 2016 interval and see if it's safe to remove those rows entirely, or if we need more custom logic."
      ]
    },
    {
      "cell_type": "code",
      "metadata": {
        "id": "zmhn-LZjdhZA",
        "colab_type": "code",
        "colab": {
          "base_uri": "https://localhost:8080/",
          "height": 221
        },
        "outputId": "cacc09a6-7722-4990-cc83-282482d6e5af"
      },
      "source": [
        "#(~autos[\"registration_year\"].between(1900,2016)).sum() / autos.shape[0]\n",
        "\n",
        "autos = autos[(autos[\"registration_year\"]>=1900)& (autos[\"registration_year\"]<=2016)]\n",
        "autos['registration_year'].value_counts().sort_index(ascending = False)\n"
      ],
      "execution_count": 30,
      "outputs": [
        {
          "output_type": "execute_result",
          "data": {
            "text/plain": [
              "2016    1220\n",
              "2015     392\n",
              "2014     663\n",
              "2013     803\n",
              "2012    1310\n",
              "        ... \n",
              "1934       2\n",
              "1931       1\n",
              "1929       1\n",
              "1927       1\n",
              "1910       5\n",
              "Name: registration_year, Length: 78, dtype: int64"
            ]
          },
          "metadata": {
            "tags": []
          },
          "execution_count": 30
        }
      ]
    },
    {
      "cell_type": "markdown",
      "metadata": {
        "id": "kQAwGruiq1-S",
        "colab_type": "text"
      },
      "source": [
        "One can see that we have removed the outliers and considered a possible year range from 1900 to 2016. Also, it appears that most of the vehicles were first registered in the past 20 years.\n",
        "\n",
        "Now we move to the next step\n",
        "\n",
        "**6.) Exploring Price by Brand**"
      ]
    },
    {
      "cell_type": "code",
      "metadata": {
        "id": "lPFVIhfxufAW",
        "colab_type": "code",
        "colab": {
          "base_uri": "https://localhost:8080/",
          "height": 731
        },
        "outputId": "cc7b581c-76f9-43da-8e02-b32e95e0d60a"
      },
      "source": [
        "brand_counts = autos['brand'].value_counts(normalize=True)\n",
        "print(brand_counts)\n",
        "\n",
        "#Displays top 5% of the overall listing\n",
        "popular_brands = brand_counts[brand_counts > .05].index\n",
        "print(popular_brands)"
      ],
      "execution_count": 31,
      "outputs": [
        {
          "output_type": "stream",
          "text": [
            "volkswagen        0.211264\n",
            "bmw               0.110045\n",
            "opel              0.107581\n",
            "mercedes_benz     0.096463\n",
            "audi              0.086566\n",
            "ford              0.069900\n",
            "renault           0.047150\n",
            "peugeot           0.029841\n",
            "fiat              0.025642\n",
            "seat              0.018273\n",
            "skoda             0.016409\n",
            "nissan            0.015274\n",
            "mazda             0.015188\n",
            "smart             0.014160\n",
            "citroen           0.014010\n",
            "toyota            0.012703\n",
            "hyundai           0.010025\n",
            "sonstige_autos    0.009811\n",
            "volvo             0.009147\n",
            "mini              0.008762\n",
            "mitsubishi        0.008226\n",
            "honda             0.007840\n",
            "kia               0.007069\n",
            "alfa_romeo        0.006641\n",
            "porsche           0.006127\n",
            "suzuki            0.005934\n",
            "chevrolet         0.005698\n",
            "chrysler          0.003513\n",
            "dacia             0.002635\n",
            "daihatsu          0.002506\n",
            "jeep              0.002271\n",
            "subaru            0.002142\n",
            "land_rover        0.002099\n",
            "saab              0.001649\n",
            "jaguar            0.001564\n",
            "daewoo            0.001500\n",
            "trabant           0.001392\n",
            "rover             0.001328\n",
            "lancia            0.001071\n",
            "lada              0.000578\n",
            "Name: brand, dtype: float64\n",
            "Index(['volkswagen', 'bmw', 'opel', 'mercedes_benz', 'audi', 'ford'], dtype='object')\n"
          ],
          "name": "stdout"
        }
      ]
    },
    {
      "cell_type": "markdown",
      "metadata": {
        "id": "lTS04BzavVjM",
        "colab_type": "text"
      },
      "source": [
        "In here the top list covers almost 50% of the overall listings. We will consider the further analysis with brands representing more than 5% of total listings as we can see lots of brands that don't have a significant percentage of listings. In here `Volkswagen` tops the chart followed by bmw and other famous brands."
      ]
    },
    {
      "cell_type": "code",
      "metadata": {
        "id": "ltDw-Zp1vxMh",
        "colab_type": "code",
        "colab": {
          "base_uri": "https://localhost:8080/",
          "height": 119
        },
        "outputId": "798c73fc-3fd2-4199-e77c-840e834e56de"
      },
      "source": [
        "mean_brand_prices= {}\n",
        "\n",
        "for brand in popular_brands:\n",
        "  common_brands = autos[autos['brand'] == brand]\n",
        "  mean_prices = common_brands[\"price\"].mean()\n",
        "  mean_brand_prices[brand] = int(mean_prices) \n",
        "\n",
        "\n",
        "\n",
        "mean_brand_prices\n"
      ],
      "execution_count": 32,
      "outputs": [
        {
          "output_type": "execute_result",
          "data": {
            "text/plain": [
              "{'audi': 9336,\n",
              " 'bmw': 8332,\n",
              " 'ford': 3749,\n",
              " 'mercedes_benz': 8628,\n",
              " 'opel': 2975,\n",
              " 'volkswagen': 5402}"
            ]
          },
          "metadata": {
            "tags": []
          },
          "execution_count": 32
        }
      ]
    },
    {
      "cell_type": "markdown",
      "metadata": {
        "id": "AHYoBeVd3JBm",
        "colab_type": "text"
      },
      "source": [
        "Of the top 5 brands, there is a distinct price gap:\n",
        "\n",
        "* Audi, BMW and Mercedes Benz are more expensive\n",
        "* Ford and Opel are more affordable.\n",
        "* Volkswagen is in the middle of the both\n",
        "\n",
        "This can be the reason it is more popular among general public."
      ]
    },
    {
      "cell_type": "markdown",
      "metadata": {
        "id": "RRthSnCgiIHs",
        "colab_type": "text"
      },
      "source": [
        "**7.) Storing Aggregate Data in a DataFrame**\n",
        "\n",
        "For the top 6 brands, let's use aggregation to understand the average mileage for those cars and if there's any visible link with mean price.\n",
        "\n",
        "We can combine the data from both series objects into a single dataframe (with a shared index) and display the dataframe directly.\n",
        "\n",
        "We can achieve this by using:\n",
        "\n",
        "\n",
        "*   [pandas Series constructor](https://pandas.pydata.org/pandas-docs/stable/reference/api/pandas.Series.html)\n",
        "*   [pandas Dataframe constructor](https://pandas.pydata.org/pandas-docs/stable/reference/api/pandas.DataFrame.html)\n",
        "\n"
      ]
    },
    {
      "cell_type": "code",
      "metadata": {
        "id": "XsTxwoMfmgLz",
        "colab_type": "code",
        "colab": {
          "base_uri": "https://localhost:8080/",
          "height": 255
        },
        "outputId": "63657b04-cfe6-4084-d18c-21fd0d42ce46"
      },
      "source": [
        "#Using Series constructor\n",
        "bmp_series = pd.Series(mean_brand_prices)\n",
        "print(bmp_series)\n",
        "#Using Dataframe constructor\n",
        "df = pd.DataFrame(bmp_series, columns=['mean_price'])\n",
        "print(df)"
      ],
      "execution_count": 33,
      "outputs": [
        {
          "output_type": "stream",
          "text": [
            "volkswagen       5402\n",
            "bmw              8332\n",
            "opel             2975\n",
            "mercedes_benz    8628\n",
            "audi             9336\n",
            "ford             3749\n",
            "dtype: int64\n",
            "               mean_price\n",
            "volkswagen           5402\n",
            "bmw                  8332\n",
            "opel                 2975\n",
            "mercedes_benz        8628\n",
            "audi                 9336\n",
            "ford                 3749\n"
          ],
          "name": "stdout"
        }
      ]
    },
    {
      "cell_type": "code",
      "metadata": {
        "id": "9Wu3fRvzpjjH",
        "colab_type": "code",
        "colab": {
          "base_uri": "https://localhost:8080/",
          "height": 34
        },
        "outputId": "ac5ac303-82a9-4a2a-ff5c-d73ea6564cd9"
      },
      "source": [
        "mean_brand_mileage= {}\n",
        "\n",
        "for brand in popular_brands:\n",
        "  only_brand = autos[autos['brand'] == brand]\n",
        "  mean_mileage = only_brand[\"odometer_km\"].mean()\n",
        "  mean_brand_mileage[brand] = int(mean_mileage) \n",
        "\n",
        "mileage_series = pd.Series(mean_brand_mileage).sort_values(ascending=False)\n",
        "mean_series = pd.Series(mean_brand_prices).sort_values(ascending=False)\n",
        "print(mean_brand_mileage)\n"
      ],
      "execution_count": 34,
      "outputs": [
        {
          "output_type": "stream",
          "text": [
            "{'volkswagen': 128707, 'bmw': 132572, 'opel': 129310, 'mercedes_benz': 130788, 'audi': 129157, 'ford': 124266}\n"
          ],
          "name": "stdout"
        }
      ]
    },
    {
      "cell_type": "code",
      "metadata": {
        "id": "XurjTeP4AVzr",
        "colab_type": "code",
        "colab": {
          "base_uri": "https://localhost:8080/",
          "height": 235
        },
        "outputId": "b74de3c6-5b80-4d3f-d204-4c5903a29e81"
      },
      "source": [
        "brand_info = pd.DataFrame(mileage_series,columns=['mean_mileage'])\n",
        "brand_info"
      ],
      "execution_count": 35,
      "outputs": [
        {
          "output_type": "execute_result",
          "data": {
            "text/html": [
              "<div>\n",
              "<style scoped>\n",
              "    .dataframe tbody tr th:only-of-type {\n",
              "        vertical-align: middle;\n",
              "    }\n",
              "\n",
              "    .dataframe tbody tr th {\n",
              "        vertical-align: top;\n",
              "    }\n",
              "\n",
              "    .dataframe thead th {\n",
              "        text-align: right;\n",
              "    }\n",
              "</style>\n",
              "<table border=\"1\" class=\"dataframe\">\n",
              "  <thead>\n",
              "    <tr style=\"text-align: right;\">\n",
              "      <th></th>\n",
              "      <th>mean_mileage</th>\n",
              "    </tr>\n",
              "  </thead>\n",
              "  <tbody>\n",
              "    <tr>\n",
              "      <th>bmw</th>\n",
              "      <td>132572</td>\n",
              "    </tr>\n",
              "    <tr>\n",
              "      <th>mercedes_benz</th>\n",
              "      <td>130788</td>\n",
              "    </tr>\n",
              "    <tr>\n",
              "      <th>opel</th>\n",
              "      <td>129310</td>\n",
              "    </tr>\n",
              "    <tr>\n",
              "      <th>audi</th>\n",
              "      <td>129157</td>\n",
              "    </tr>\n",
              "    <tr>\n",
              "      <th>volkswagen</th>\n",
              "      <td>128707</td>\n",
              "    </tr>\n",
              "    <tr>\n",
              "      <th>ford</th>\n",
              "      <td>124266</td>\n",
              "    </tr>\n",
              "  </tbody>\n",
              "</table>\n",
              "</div>"
            ],
            "text/plain": [
              "               mean_mileage\n",
              "bmw                  132572\n",
              "mercedes_benz        130788\n",
              "opel                 129310\n",
              "audi                 129157\n",
              "volkswagen           128707\n",
              "ford                 124266"
            ]
          },
          "metadata": {
            "tags": []
          },
          "execution_count": 35
        }
      ]
    },
    {
      "cell_type": "code",
      "metadata": {
        "id": "XFsEJACXBeZj",
        "colab_type": "code",
        "colab": {
          "base_uri": "https://localhost:8080/",
          "height": 235
        },
        "outputId": "5b08ca30-5916-457b-9cf4-079b811eae16"
      },
      "source": [
        "brand_info[\"mean_price\"] = mean_series\n",
        "brand_info"
      ],
      "execution_count": 36,
      "outputs": [
        {
          "output_type": "execute_result",
          "data": {
            "text/html": [
              "<div>\n",
              "<style scoped>\n",
              "    .dataframe tbody tr th:only-of-type {\n",
              "        vertical-align: middle;\n",
              "    }\n",
              "\n",
              "    .dataframe tbody tr th {\n",
              "        vertical-align: top;\n",
              "    }\n",
              "\n",
              "    .dataframe thead th {\n",
              "        text-align: right;\n",
              "    }\n",
              "</style>\n",
              "<table border=\"1\" class=\"dataframe\">\n",
              "  <thead>\n",
              "    <tr style=\"text-align: right;\">\n",
              "      <th></th>\n",
              "      <th>mean_mileage</th>\n",
              "      <th>mean_price</th>\n",
              "    </tr>\n",
              "  </thead>\n",
              "  <tbody>\n",
              "    <tr>\n",
              "      <th>bmw</th>\n",
              "      <td>132572</td>\n",
              "      <td>8332</td>\n",
              "    </tr>\n",
              "    <tr>\n",
              "      <th>mercedes_benz</th>\n",
              "      <td>130788</td>\n",
              "      <td>8628</td>\n",
              "    </tr>\n",
              "    <tr>\n",
              "      <th>opel</th>\n",
              "      <td>129310</td>\n",
              "      <td>2975</td>\n",
              "    </tr>\n",
              "    <tr>\n",
              "      <th>audi</th>\n",
              "      <td>129157</td>\n",
              "      <td>9336</td>\n",
              "    </tr>\n",
              "    <tr>\n",
              "      <th>volkswagen</th>\n",
              "      <td>128707</td>\n",
              "      <td>5402</td>\n",
              "    </tr>\n",
              "    <tr>\n",
              "      <th>ford</th>\n",
              "      <td>124266</td>\n",
              "      <td>3749</td>\n",
              "    </tr>\n",
              "  </tbody>\n",
              "</table>\n",
              "</div>"
            ],
            "text/plain": [
              "               mean_mileage  mean_price\n",
              "bmw                  132572        8332\n",
              "mercedes_benz        130788        8628\n",
              "opel                 129310        2975\n",
              "audi                 129157        9336\n",
              "volkswagen           128707        5402\n",
              "ford                 124266        3749"
            ]
          },
          "metadata": {
            "tags": []
          },
          "execution_count": 36
        }
      ]
    },
    {
      "cell_type": "markdown",
      "metadata": {
        "id": "kuabCvXPB4yo",
        "colab_type": "text"
      },
      "source": [
        "By aggregating, one can say that the expensive cars tend to provide higher mileage, while the less expensive ones have lower mileage. \n",
        "\n",
        "But one can also see there is not much variation in the `mileage` as one can see in `price` point."
      ]
    },
    {
      "cell_type": "markdown",
      "metadata": {
        "id": "ZzQdVRPOw7lf",
        "colab_type": "text"
      },
      "source": [
        "**Challenge Questions:**\n",
        "* Data cleaning next steps:\n",
        "    - Identify categorical data that uses german words, translate them and map the values to their english counterparts\n",
        "    - Convert the dates to be uniform numeric data, so \"2016-03-21\" becomes the integer 20160321.\n",
        "    - See if there are particular keywords in the name column that you can extract as new columns\n",
        "\n",
        "* Analysis next steps:\n",
        "    - Find the most common brand/model combinations\n",
        "    - Split the odometer_km into groups, and use aggregation to see if average prices follows any patterns based on the milage.\n",
        "    - How much cheaper are cars with damage than their non-damaged counterparts?"
      ]
    },
    {
      "cell_type": "markdown",
      "metadata": {
        "id": "yC-6k-vcxhqt",
        "colab_type": "text"
      },
      "source": [
        "Let's begin with determining german words and replacing them with english words."
      ]
    },
    {
      "cell_type": "code",
      "metadata": {
        "id": "aLCrPEBuxZJt",
        "colab_type": "code",
        "colab": {
          "base_uri": "https://localhost:8080/",
          "height": 394
        },
        "outputId": "0357758a-8d7b-4e40-d7fd-0baa3318d7de"
      },
      "source": [
        "autos.head()"
      ],
      "execution_count": 37,
      "outputs": [
        {
          "output_type": "execute_result",
          "data": {
            "text/html": [
              "<div>\n",
              "<style scoped>\n",
              "    .dataframe tbody tr th:only-of-type {\n",
              "        vertical-align: middle;\n",
              "    }\n",
              "\n",
              "    .dataframe tbody tr th {\n",
              "        vertical-align: top;\n",
              "    }\n",
              "\n",
              "    .dataframe thead th {\n",
              "        text-align: right;\n",
              "    }\n",
              "</style>\n",
              "<table border=\"1\" class=\"dataframe\">\n",
              "  <thead>\n",
              "    <tr style=\"text-align: right;\">\n",
              "      <th></th>\n",
              "      <th>date_crawled</th>\n",
              "      <th>name</th>\n",
              "      <th>price</th>\n",
              "      <th>ab_test</th>\n",
              "      <th>vehicle_type</th>\n",
              "      <th>registration_year</th>\n",
              "      <th>gearbox</th>\n",
              "      <th>power_ps</th>\n",
              "      <th>model</th>\n",
              "      <th>odometer_km</th>\n",
              "      <th>registration_month</th>\n",
              "      <th>fuel_type</th>\n",
              "      <th>brand</th>\n",
              "      <th>unrepaired_damage</th>\n",
              "      <th>ad_created</th>\n",
              "      <th>postal_code</th>\n",
              "      <th>last_seen</th>\n",
              "    </tr>\n",
              "  </thead>\n",
              "  <tbody>\n",
              "    <tr>\n",
              "      <th>0</th>\n",
              "      <td>2016-03-26 17:47:46</td>\n",
              "      <td>Peugeot_807_160_NAVTECH_ON_BOARD</td>\n",
              "      <td>5000</td>\n",
              "      <td>control</td>\n",
              "      <td>bus</td>\n",
              "      <td>2004</td>\n",
              "      <td>manuell</td>\n",
              "      <td>158</td>\n",
              "      <td>andere</td>\n",
              "      <td>150000</td>\n",
              "      <td>3</td>\n",
              "      <td>lpg</td>\n",
              "      <td>peugeot</td>\n",
              "      <td>nein</td>\n",
              "      <td>2016-03-26 00:00:00</td>\n",
              "      <td>79588</td>\n",
              "      <td>2016-04-06 06:45:54</td>\n",
              "    </tr>\n",
              "    <tr>\n",
              "      <th>1</th>\n",
              "      <td>2016-04-04 13:38:56</td>\n",
              "      <td>BMW_740i_4_4_Liter_HAMANN_UMBAU_Mega_Optik</td>\n",
              "      <td>8500</td>\n",
              "      <td>control</td>\n",
              "      <td>limousine</td>\n",
              "      <td>1997</td>\n",
              "      <td>automatik</td>\n",
              "      <td>286</td>\n",
              "      <td>7er</td>\n",
              "      <td>150000</td>\n",
              "      <td>6</td>\n",
              "      <td>benzin</td>\n",
              "      <td>bmw</td>\n",
              "      <td>nein</td>\n",
              "      <td>2016-04-04 00:00:00</td>\n",
              "      <td>71034</td>\n",
              "      <td>2016-04-06 14:45:08</td>\n",
              "    </tr>\n",
              "    <tr>\n",
              "      <th>2</th>\n",
              "      <td>2016-03-26 18:57:24</td>\n",
              "      <td>Volkswagen_Golf_1.6_United</td>\n",
              "      <td>8990</td>\n",
              "      <td>test</td>\n",
              "      <td>limousine</td>\n",
              "      <td>2009</td>\n",
              "      <td>manuell</td>\n",
              "      <td>102</td>\n",
              "      <td>golf</td>\n",
              "      <td>70000</td>\n",
              "      <td>7</td>\n",
              "      <td>benzin</td>\n",
              "      <td>volkswagen</td>\n",
              "      <td>nein</td>\n",
              "      <td>2016-03-26 00:00:00</td>\n",
              "      <td>35394</td>\n",
              "      <td>2016-04-06 20:15:37</td>\n",
              "    </tr>\n",
              "    <tr>\n",
              "      <th>3</th>\n",
              "      <td>2016-03-12 16:58:10</td>\n",
              "      <td>Smart_smart_fortwo_coupe_softouch/F1/Klima/Pan...</td>\n",
              "      <td>4350</td>\n",
              "      <td>control</td>\n",
              "      <td>kleinwagen</td>\n",
              "      <td>2007</td>\n",
              "      <td>automatik</td>\n",
              "      <td>71</td>\n",
              "      <td>fortwo</td>\n",
              "      <td>70000</td>\n",
              "      <td>6</td>\n",
              "      <td>benzin</td>\n",
              "      <td>smart</td>\n",
              "      <td>nein</td>\n",
              "      <td>2016-03-12 00:00:00</td>\n",
              "      <td>33729</td>\n",
              "      <td>2016-03-15 03:16:28</td>\n",
              "    </tr>\n",
              "    <tr>\n",
              "      <th>4</th>\n",
              "      <td>2016-04-01 14:38:50</td>\n",
              "      <td>Ford_Focus_1_6_Benzin_TÜV_neu_ist_sehr_gepfleg...</td>\n",
              "      <td>1350</td>\n",
              "      <td>test</td>\n",
              "      <td>kombi</td>\n",
              "      <td>2003</td>\n",
              "      <td>manuell</td>\n",
              "      <td>0</td>\n",
              "      <td>focus</td>\n",
              "      <td>150000</td>\n",
              "      <td>7</td>\n",
              "      <td>benzin</td>\n",
              "      <td>ford</td>\n",
              "      <td>nein</td>\n",
              "      <td>2016-04-01 00:00:00</td>\n",
              "      <td>39218</td>\n",
              "      <td>2016-04-01 14:38:50</td>\n",
              "    </tr>\n",
              "  </tbody>\n",
              "</table>\n",
              "</div>"
            ],
            "text/plain": [
              "          date_crawled  ...            last_seen\n",
              "0  2016-03-26 17:47:46  ...  2016-04-06 06:45:54\n",
              "1  2016-04-04 13:38:56  ...  2016-04-06 14:45:08\n",
              "2  2016-03-26 18:57:24  ...  2016-04-06 20:15:37\n",
              "3  2016-03-12 16:58:10  ...  2016-03-15 03:16:28\n",
              "4  2016-04-01 14:38:50  ...  2016-04-01 14:38:50\n",
              "\n",
              "[5 rows x 17 columns]"
            ]
          },
          "metadata": {
            "tags": []
          },
          "execution_count": 37
        }
      ]
    },
    {
      "cell_type": "markdown",
      "metadata": {
        "id": "mllW7-xxxnze",
        "colab_type": "text"
      },
      "source": [
        "In here, we can see german is present in following columns:\n",
        "- `vehicle_type`\n",
        "- `gearbox`\n",
        "- `fuel_type`\n",
        "- `unrepaired_damage`\n",
        "\n",
        "Let's dig deeper into each column:"
      ]
    },
    {
      "cell_type": "code",
      "metadata": {
        "id": "UWwDNmR8ydsO",
        "colab_type": "code",
        "colab": {
          "base_uri": "https://localhost:8080/",
          "height": 102
        },
        "outputId": "1dd7c3fd-aed4-4fac-a0f8-4e45e9b59331"
      },
      "source": [
        "print('vehicle type: ',autos['vehicle_type'].unique())\n",
        "print('gearbox: ',autos['gearbox'].unique())\n",
        "print('fuel_type: ', autos['fuel_type'].unique())\n",
        "print('unrepaired_damage: ', autos['unrepaired_damage'].unique())"
      ],
      "execution_count": 38,
      "outputs": [
        {
          "output_type": "stream",
          "text": [
            "vehicle type:  ['bus' 'limousine' 'kleinwagen' 'kombi' nan 'coupe' 'suv' 'cabrio'\n",
            " 'andere']\n",
            "gearbox:  ['manuell' 'automatik' nan]\n",
            "fuel_type:  ['lpg' 'benzin' 'diesel' nan 'cng' 'hybrid' 'elektro' 'andere']\n",
            "unrepaired_damage:  ['nein' nan 'ja']\n"
          ],
          "name": "stdout"
        }
      ]
    },
    {
      "cell_type": "markdown",
      "metadata": {
        "id": "jhLyCaPKzUeK",
        "colab_type": "text"
      },
      "source": [
        "We will change this names into english using dictionary."
      ]
    },
    {
      "cell_type": "code",
      "metadata": {
        "id": "T0BrkdD-zbWk",
        "colab_type": "code",
        "colab": {}
      },
      "source": [
        "# with reference to above values below are the translated words.\n",
        "translated_words = {\n",
        "    'bus':'bus',\n",
        "    'limousine':'limousine',\n",
        "    'kleinwagen':'supermini',\n",
        "    'kombi':'station_wagon',\n",
        "    'coupe':'coupe',\n",
        "    'suv':'suv',\n",
        "    'cabrio':'cabrio',\n",
        "    'andere' :'other',\n",
        "    'manuell':'manual',\n",
        "    'automatik':'automatic',\n",
        "    'lpg':'lpg',\n",
        "    'benzin':'petrol',\n",
        "    'diesel':'diesel',\n",
        "    'cng':'cng',\n",
        "    'hybrid':'hybrid',\n",
        "    'elektro':'electro',\n",
        "    'nein':'no',\n",
        "    'ja':'yes'\n",
        "}\n",
        "for value in ['vehicle_type','gearbox','fuel_type','unrepaired_damage']:\n",
        "    autos[value] = autos[value].map(translated_words) # using map function to replace the values.\n",
        "    "
      ],
      "execution_count": 39,
      "outputs": []
    },
    {
      "cell_type": "markdown",
      "metadata": {
        "id": "cHdEwvqoz_Pj",
        "colab_type": "text"
      },
      "source": [
        "Now we again check whether the values have changed or not."
      ]
    },
    {
      "cell_type": "code",
      "metadata": {
        "id": "CEcAgJHIz_5V",
        "colab_type": "code",
        "colab": {
          "base_uri": "https://localhost:8080/",
          "height": 102
        },
        "outputId": "2c6e9578-6204-44d6-bc06-1a086a444afa"
      },
      "source": [
        "print('vehicle type: ',autos['vehicle_type'].unique())\n",
        "print('gearbox: ',autos['gearbox'].unique())\n",
        "print('fuel_type: ', autos['fuel_type'].unique())\n",
        "print('unrepaired_damage: ', autos['unrepaired_damage'].unique())"
      ],
      "execution_count": 40,
      "outputs": [
        {
          "output_type": "stream",
          "text": [
            "vehicle type:  ['bus' 'limousine' 'supermini' 'station_wagon' nan 'coupe' 'suv' 'cabrio'\n",
            " 'other']\n",
            "gearbox:  ['manual' 'automatic' nan]\n",
            "fuel_type:  ['lpg' 'petrol' 'diesel' nan 'cng' 'hybrid' 'electro' 'other']\n",
            "unrepaired_damage:  ['no' nan 'yes']\n"
          ],
          "name": "stdout"
        }
      ]
    },
    {
      "cell_type": "markdown",
      "metadata": {
        "id": "aXDegmHE0QnF",
        "colab_type": "text"
      },
      "source": [
        "Our next task is to convert the dates to be uniform numeric data."
      ]
    },
    {
      "cell_type": "code",
      "metadata": {
        "id": "bUK7gs8a0T-u",
        "colab_type": "code",
        "colab": {
          "base_uri": "https://localhost:8080/",
          "height": 394
        },
        "outputId": "e5133d5a-2ba7-4013-98b9-5d769a4df268"
      },
      "source": [
        "autos.head()"
      ],
      "execution_count": 41,
      "outputs": [
        {
          "output_type": "execute_result",
          "data": {
            "text/html": [
              "<div>\n",
              "<style scoped>\n",
              "    .dataframe tbody tr th:only-of-type {\n",
              "        vertical-align: middle;\n",
              "    }\n",
              "\n",
              "    .dataframe tbody tr th {\n",
              "        vertical-align: top;\n",
              "    }\n",
              "\n",
              "    .dataframe thead th {\n",
              "        text-align: right;\n",
              "    }\n",
              "</style>\n",
              "<table border=\"1\" class=\"dataframe\">\n",
              "  <thead>\n",
              "    <tr style=\"text-align: right;\">\n",
              "      <th></th>\n",
              "      <th>date_crawled</th>\n",
              "      <th>name</th>\n",
              "      <th>price</th>\n",
              "      <th>ab_test</th>\n",
              "      <th>vehicle_type</th>\n",
              "      <th>registration_year</th>\n",
              "      <th>gearbox</th>\n",
              "      <th>power_ps</th>\n",
              "      <th>model</th>\n",
              "      <th>odometer_km</th>\n",
              "      <th>registration_month</th>\n",
              "      <th>fuel_type</th>\n",
              "      <th>brand</th>\n",
              "      <th>unrepaired_damage</th>\n",
              "      <th>ad_created</th>\n",
              "      <th>postal_code</th>\n",
              "      <th>last_seen</th>\n",
              "    </tr>\n",
              "  </thead>\n",
              "  <tbody>\n",
              "    <tr>\n",
              "      <th>0</th>\n",
              "      <td>2016-03-26 17:47:46</td>\n",
              "      <td>Peugeot_807_160_NAVTECH_ON_BOARD</td>\n",
              "      <td>5000</td>\n",
              "      <td>control</td>\n",
              "      <td>bus</td>\n",
              "      <td>2004</td>\n",
              "      <td>manual</td>\n",
              "      <td>158</td>\n",
              "      <td>andere</td>\n",
              "      <td>150000</td>\n",
              "      <td>3</td>\n",
              "      <td>lpg</td>\n",
              "      <td>peugeot</td>\n",
              "      <td>no</td>\n",
              "      <td>2016-03-26 00:00:00</td>\n",
              "      <td>79588</td>\n",
              "      <td>2016-04-06 06:45:54</td>\n",
              "    </tr>\n",
              "    <tr>\n",
              "      <th>1</th>\n",
              "      <td>2016-04-04 13:38:56</td>\n",
              "      <td>BMW_740i_4_4_Liter_HAMANN_UMBAU_Mega_Optik</td>\n",
              "      <td>8500</td>\n",
              "      <td>control</td>\n",
              "      <td>limousine</td>\n",
              "      <td>1997</td>\n",
              "      <td>automatic</td>\n",
              "      <td>286</td>\n",
              "      <td>7er</td>\n",
              "      <td>150000</td>\n",
              "      <td>6</td>\n",
              "      <td>petrol</td>\n",
              "      <td>bmw</td>\n",
              "      <td>no</td>\n",
              "      <td>2016-04-04 00:00:00</td>\n",
              "      <td>71034</td>\n",
              "      <td>2016-04-06 14:45:08</td>\n",
              "    </tr>\n",
              "    <tr>\n",
              "      <th>2</th>\n",
              "      <td>2016-03-26 18:57:24</td>\n",
              "      <td>Volkswagen_Golf_1.6_United</td>\n",
              "      <td>8990</td>\n",
              "      <td>test</td>\n",
              "      <td>limousine</td>\n",
              "      <td>2009</td>\n",
              "      <td>manual</td>\n",
              "      <td>102</td>\n",
              "      <td>golf</td>\n",
              "      <td>70000</td>\n",
              "      <td>7</td>\n",
              "      <td>petrol</td>\n",
              "      <td>volkswagen</td>\n",
              "      <td>no</td>\n",
              "      <td>2016-03-26 00:00:00</td>\n",
              "      <td>35394</td>\n",
              "      <td>2016-04-06 20:15:37</td>\n",
              "    </tr>\n",
              "    <tr>\n",
              "      <th>3</th>\n",
              "      <td>2016-03-12 16:58:10</td>\n",
              "      <td>Smart_smart_fortwo_coupe_softouch/F1/Klima/Pan...</td>\n",
              "      <td>4350</td>\n",
              "      <td>control</td>\n",
              "      <td>supermini</td>\n",
              "      <td>2007</td>\n",
              "      <td>automatic</td>\n",
              "      <td>71</td>\n",
              "      <td>fortwo</td>\n",
              "      <td>70000</td>\n",
              "      <td>6</td>\n",
              "      <td>petrol</td>\n",
              "      <td>smart</td>\n",
              "      <td>no</td>\n",
              "      <td>2016-03-12 00:00:00</td>\n",
              "      <td>33729</td>\n",
              "      <td>2016-03-15 03:16:28</td>\n",
              "    </tr>\n",
              "    <tr>\n",
              "      <th>4</th>\n",
              "      <td>2016-04-01 14:38:50</td>\n",
              "      <td>Ford_Focus_1_6_Benzin_TÜV_neu_ist_sehr_gepfleg...</td>\n",
              "      <td>1350</td>\n",
              "      <td>test</td>\n",
              "      <td>station_wagon</td>\n",
              "      <td>2003</td>\n",
              "      <td>manual</td>\n",
              "      <td>0</td>\n",
              "      <td>focus</td>\n",
              "      <td>150000</td>\n",
              "      <td>7</td>\n",
              "      <td>petrol</td>\n",
              "      <td>ford</td>\n",
              "      <td>no</td>\n",
              "      <td>2016-04-01 00:00:00</td>\n",
              "      <td>39218</td>\n",
              "      <td>2016-04-01 14:38:50</td>\n",
              "    </tr>\n",
              "  </tbody>\n",
              "</table>\n",
              "</div>"
            ],
            "text/plain": [
              "          date_crawled  ...            last_seen\n",
              "0  2016-03-26 17:47:46  ...  2016-04-06 06:45:54\n",
              "1  2016-04-04 13:38:56  ...  2016-04-06 14:45:08\n",
              "2  2016-03-26 18:57:24  ...  2016-04-06 20:15:37\n",
              "3  2016-03-12 16:58:10  ...  2016-03-15 03:16:28\n",
              "4  2016-04-01 14:38:50  ...  2016-04-01 14:38:50\n",
              "\n",
              "[5 rows x 17 columns]"
            ]
          },
          "metadata": {
            "tags": []
          },
          "execution_count": 41
        }
      ]
    },
    {
      "cell_type": "markdown",
      "metadata": {
        "id": "QPxYYIdO0kJV",
        "colab_type": "text"
      },
      "source": [
        "In here one can see there are 3 columns with dates: `date_crawled`, `ad_created` and `last_seen`. As the date data is almost identical\n",
        "\n",
        "For each column one can perform below steps:\n",
        "\n",
        "- extract first nine parts\n",
        "- remove \"-\" sign\n",
        "- convert the remaining data to numeric format"
      ]
    },
    {
      "cell_type": "code",
      "metadata": {
        "id": "WRMXY1XU1CnW",
        "colab_type": "code",
        "colab": {}
      },
      "source": [
        "date_cols = ['date_crawled','ad_created','last_seen']\n",
        "\n",
        "for value in date_cols:\n",
        "    autos[value] = (autos[value]\n",
        "                  .str[:10]\n",
        "                  .str.replace('-','')\n",
        "                  .astype(int)\n",
        "                  )"
      ],
      "execution_count": 42,
      "outputs": []
    },
    {
      "cell_type": "code",
      "metadata": {
        "id": "tW8N01Au1OYV",
        "colab_type": "code",
        "colab": {
          "base_uri": "https://localhost:8080/",
          "height": 119
        },
        "outputId": "9926a045-6269-4b27-850f-22596dae7ba0"
      },
      "source": [
        "autos['date_crawled'].head()"
      ],
      "execution_count": 43,
      "outputs": [
        {
          "output_type": "execute_result",
          "data": {
            "text/plain": [
              "0    20160326\n",
              "1    20160404\n",
              "2    20160326\n",
              "3    20160312\n",
              "4    20160401\n",
              "Name: date_crawled, dtype: int64"
            ]
          },
          "metadata": {
            "tags": []
          },
          "execution_count": 43
        }
      ]
    },
    {
      "cell_type": "markdown",
      "metadata": {
        "id": "EDe-M21b1n1Z",
        "colab_type": "text"
      },
      "source": [
        "One can see the dates have been converted into numeric format."
      ]
    },
    {
      "cell_type": "code",
      "metadata": {
        "id": "aHulIQj52Bf4",
        "colab_type": "code",
        "colab": {
          "base_uri": "https://localhost:8080/",
          "height": 689
        },
        "outputId": "2367baec-1237-4423-c859-5dc0c7222afd"
      },
      "source": [
        "autos.head(20)"
      ],
      "execution_count": 44,
      "outputs": [
        {
          "output_type": "execute_result",
          "data": {
            "text/html": [
              "<div>\n",
              "<style scoped>\n",
              "    .dataframe tbody tr th:only-of-type {\n",
              "        vertical-align: middle;\n",
              "    }\n",
              "\n",
              "    .dataframe tbody tr th {\n",
              "        vertical-align: top;\n",
              "    }\n",
              "\n",
              "    .dataframe thead th {\n",
              "        text-align: right;\n",
              "    }\n",
              "</style>\n",
              "<table border=\"1\" class=\"dataframe\">\n",
              "  <thead>\n",
              "    <tr style=\"text-align: right;\">\n",
              "      <th></th>\n",
              "      <th>date_crawled</th>\n",
              "      <th>name</th>\n",
              "      <th>price</th>\n",
              "      <th>ab_test</th>\n",
              "      <th>vehicle_type</th>\n",
              "      <th>registration_year</th>\n",
              "      <th>gearbox</th>\n",
              "      <th>power_ps</th>\n",
              "      <th>model</th>\n",
              "      <th>odometer_km</th>\n",
              "      <th>registration_month</th>\n",
              "      <th>fuel_type</th>\n",
              "      <th>brand</th>\n",
              "      <th>unrepaired_damage</th>\n",
              "      <th>ad_created</th>\n",
              "      <th>postal_code</th>\n",
              "      <th>last_seen</th>\n",
              "    </tr>\n",
              "  </thead>\n",
              "  <tbody>\n",
              "    <tr>\n",
              "      <th>0</th>\n",
              "      <td>20160326</td>\n",
              "      <td>Peugeot_807_160_NAVTECH_ON_BOARD</td>\n",
              "      <td>5000</td>\n",
              "      <td>control</td>\n",
              "      <td>bus</td>\n",
              "      <td>2004</td>\n",
              "      <td>manual</td>\n",
              "      <td>158</td>\n",
              "      <td>andere</td>\n",
              "      <td>150000</td>\n",
              "      <td>3</td>\n",
              "      <td>lpg</td>\n",
              "      <td>peugeot</td>\n",
              "      <td>no</td>\n",
              "      <td>20160326</td>\n",
              "      <td>79588</td>\n",
              "      <td>20160406</td>\n",
              "    </tr>\n",
              "    <tr>\n",
              "      <th>1</th>\n",
              "      <td>20160404</td>\n",
              "      <td>BMW_740i_4_4_Liter_HAMANN_UMBAU_Mega_Optik</td>\n",
              "      <td>8500</td>\n",
              "      <td>control</td>\n",
              "      <td>limousine</td>\n",
              "      <td>1997</td>\n",
              "      <td>automatic</td>\n",
              "      <td>286</td>\n",
              "      <td>7er</td>\n",
              "      <td>150000</td>\n",
              "      <td>6</td>\n",
              "      <td>petrol</td>\n",
              "      <td>bmw</td>\n",
              "      <td>no</td>\n",
              "      <td>20160404</td>\n",
              "      <td>71034</td>\n",
              "      <td>20160406</td>\n",
              "    </tr>\n",
              "    <tr>\n",
              "      <th>2</th>\n",
              "      <td>20160326</td>\n",
              "      <td>Volkswagen_Golf_1.6_United</td>\n",
              "      <td>8990</td>\n",
              "      <td>test</td>\n",
              "      <td>limousine</td>\n",
              "      <td>2009</td>\n",
              "      <td>manual</td>\n",
              "      <td>102</td>\n",
              "      <td>golf</td>\n",
              "      <td>70000</td>\n",
              "      <td>7</td>\n",
              "      <td>petrol</td>\n",
              "      <td>volkswagen</td>\n",
              "      <td>no</td>\n",
              "      <td>20160326</td>\n",
              "      <td>35394</td>\n",
              "      <td>20160406</td>\n",
              "    </tr>\n",
              "    <tr>\n",
              "      <th>3</th>\n",
              "      <td>20160312</td>\n",
              "      <td>Smart_smart_fortwo_coupe_softouch/F1/Klima/Pan...</td>\n",
              "      <td>4350</td>\n",
              "      <td>control</td>\n",
              "      <td>supermini</td>\n",
              "      <td>2007</td>\n",
              "      <td>automatic</td>\n",
              "      <td>71</td>\n",
              "      <td>fortwo</td>\n",
              "      <td>70000</td>\n",
              "      <td>6</td>\n",
              "      <td>petrol</td>\n",
              "      <td>smart</td>\n",
              "      <td>no</td>\n",
              "      <td>20160312</td>\n",
              "      <td>33729</td>\n",
              "      <td>20160315</td>\n",
              "    </tr>\n",
              "    <tr>\n",
              "      <th>4</th>\n",
              "      <td>20160401</td>\n",
              "      <td>Ford_Focus_1_6_Benzin_TÜV_neu_ist_sehr_gepfleg...</td>\n",
              "      <td>1350</td>\n",
              "      <td>test</td>\n",
              "      <td>station_wagon</td>\n",
              "      <td>2003</td>\n",
              "      <td>manual</td>\n",
              "      <td>0</td>\n",
              "      <td>focus</td>\n",
              "      <td>150000</td>\n",
              "      <td>7</td>\n",
              "      <td>petrol</td>\n",
              "      <td>ford</td>\n",
              "      <td>no</td>\n",
              "      <td>20160401</td>\n",
              "      <td>39218</td>\n",
              "      <td>20160401</td>\n",
              "    </tr>\n",
              "    <tr>\n",
              "      <th>5</th>\n",
              "      <td>20160321</td>\n",
              "      <td>Chrysler_Grand_Voyager_2.8_CRD_Aut.Limited_Sto...</td>\n",
              "      <td>7900</td>\n",
              "      <td>test</td>\n",
              "      <td>bus</td>\n",
              "      <td>2006</td>\n",
              "      <td>automatic</td>\n",
              "      <td>150</td>\n",
              "      <td>voyager</td>\n",
              "      <td>150000</td>\n",
              "      <td>4</td>\n",
              "      <td>diesel</td>\n",
              "      <td>chrysler</td>\n",
              "      <td>NaN</td>\n",
              "      <td>20160321</td>\n",
              "      <td>22962</td>\n",
              "      <td>20160406</td>\n",
              "    </tr>\n",
              "    <tr>\n",
              "      <th>6</th>\n",
              "      <td>20160320</td>\n",
              "      <td>VW_Golf_III_GT_Special_Electronic_Green_Metall...</td>\n",
              "      <td>300</td>\n",
              "      <td>test</td>\n",
              "      <td>limousine</td>\n",
              "      <td>1995</td>\n",
              "      <td>manual</td>\n",
              "      <td>90</td>\n",
              "      <td>golf</td>\n",
              "      <td>150000</td>\n",
              "      <td>8</td>\n",
              "      <td>petrol</td>\n",
              "      <td>volkswagen</td>\n",
              "      <td>NaN</td>\n",
              "      <td>20160320</td>\n",
              "      <td>31535</td>\n",
              "      <td>20160323</td>\n",
              "    </tr>\n",
              "    <tr>\n",
              "      <th>7</th>\n",
              "      <td>20160316</td>\n",
              "      <td>Golf_IV_1.9_TDI_90PS</td>\n",
              "      <td>1990</td>\n",
              "      <td>control</td>\n",
              "      <td>limousine</td>\n",
              "      <td>1998</td>\n",
              "      <td>manual</td>\n",
              "      <td>90</td>\n",
              "      <td>golf</td>\n",
              "      <td>150000</td>\n",
              "      <td>12</td>\n",
              "      <td>diesel</td>\n",
              "      <td>volkswagen</td>\n",
              "      <td>no</td>\n",
              "      <td>20160316</td>\n",
              "      <td>53474</td>\n",
              "      <td>20160407</td>\n",
              "    </tr>\n",
              "    <tr>\n",
              "      <th>8</th>\n",
              "      <td>20160322</td>\n",
              "      <td>Seat_Arosa</td>\n",
              "      <td>250</td>\n",
              "      <td>test</td>\n",
              "      <td>NaN</td>\n",
              "      <td>2000</td>\n",
              "      <td>manual</td>\n",
              "      <td>0</td>\n",
              "      <td>arosa</td>\n",
              "      <td>150000</td>\n",
              "      <td>10</td>\n",
              "      <td>NaN</td>\n",
              "      <td>seat</td>\n",
              "      <td>no</td>\n",
              "      <td>20160322</td>\n",
              "      <td>7426</td>\n",
              "      <td>20160326</td>\n",
              "    </tr>\n",
              "    <tr>\n",
              "      <th>9</th>\n",
              "      <td>20160316</td>\n",
              "      <td>Renault_Megane_Scenic_1.6e_RT_Klimaanlage</td>\n",
              "      <td>590</td>\n",
              "      <td>control</td>\n",
              "      <td>bus</td>\n",
              "      <td>1997</td>\n",
              "      <td>manual</td>\n",
              "      <td>90</td>\n",
              "      <td>megane</td>\n",
              "      <td>150000</td>\n",
              "      <td>7</td>\n",
              "      <td>petrol</td>\n",
              "      <td>renault</td>\n",
              "      <td>no</td>\n",
              "      <td>20160316</td>\n",
              "      <td>15749</td>\n",
              "      <td>20160406</td>\n",
              "    </tr>\n",
              "    <tr>\n",
              "      <th>11</th>\n",
              "      <td>20160316</td>\n",
              "      <td>Mercedes_A140_Motorschaden</td>\n",
              "      <td>350</td>\n",
              "      <td>control</td>\n",
              "      <td>NaN</td>\n",
              "      <td>2000</td>\n",
              "      <td>NaN</td>\n",
              "      <td>0</td>\n",
              "      <td>NaN</td>\n",
              "      <td>150000</td>\n",
              "      <td>0</td>\n",
              "      <td>petrol</td>\n",
              "      <td>mercedes_benz</td>\n",
              "      <td>NaN</td>\n",
              "      <td>20160316</td>\n",
              "      <td>17498</td>\n",
              "      <td>20160316</td>\n",
              "    </tr>\n",
              "    <tr>\n",
              "      <th>12</th>\n",
              "      <td>20160331</td>\n",
              "      <td>Smart_smart_fortwo_coupe_softouch_pure_MHD_Pan...</td>\n",
              "      <td>5299</td>\n",
              "      <td>control</td>\n",
              "      <td>supermini</td>\n",
              "      <td>2010</td>\n",
              "      <td>automatic</td>\n",
              "      <td>71</td>\n",
              "      <td>fortwo</td>\n",
              "      <td>50000</td>\n",
              "      <td>9</td>\n",
              "      <td>petrol</td>\n",
              "      <td>smart</td>\n",
              "      <td>no</td>\n",
              "      <td>20160331</td>\n",
              "      <td>34590</td>\n",
              "      <td>20160406</td>\n",
              "    </tr>\n",
              "    <tr>\n",
              "      <th>13</th>\n",
              "      <td>20160323</td>\n",
              "      <td>Audi_A3_1.6_tuning</td>\n",
              "      <td>1350</td>\n",
              "      <td>control</td>\n",
              "      <td>limousine</td>\n",
              "      <td>1999</td>\n",
              "      <td>manual</td>\n",
              "      <td>101</td>\n",
              "      <td>a3</td>\n",
              "      <td>150000</td>\n",
              "      <td>11</td>\n",
              "      <td>petrol</td>\n",
              "      <td>audi</td>\n",
              "      <td>no</td>\n",
              "      <td>20160323</td>\n",
              "      <td>12043</td>\n",
              "      <td>20160401</td>\n",
              "    </tr>\n",
              "    <tr>\n",
              "      <th>14</th>\n",
              "      <td>20160323</td>\n",
              "      <td>Renault_Clio_3__Dynamique_1.2__16_V;_viele_Ver...</td>\n",
              "      <td>3999</td>\n",
              "      <td>test</td>\n",
              "      <td>supermini</td>\n",
              "      <td>2007</td>\n",
              "      <td>manual</td>\n",
              "      <td>75</td>\n",
              "      <td>clio</td>\n",
              "      <td>150000</td>\n",
              "      <td>9</td>\n",
              "      <td>petrol</td>\n",
              "      <td>renault</td>\n",
              "      <td>NaN</td>\n",
              "      <td>20160323</td>\n",
              "      <td>81737</td>\n",
              "      <td>20160401</td>\n",
              "    </tr>\n",
              "    <tr>\n",
              "      <th>15</th>\n",
              "      <td>20160401</td>\n",
              "      <td>Corvette_C3_Coupe_T_Top_Crossfire_Injection</td>\n",
              "      <td>18900</td>\n",
              "      <td>test</td>\n",
              "      <td>coupe</td>\n",
              "      <td>1982</td>\n",
              "      <td>automatic</td>\n",
              "      <td>203</td>\n",
              "      <td>NaN</td>\n",
              "      <td>80000</td>\n",
              "      <td>6</td>\n",
              "      <td>petrol</td>\n",
              "      <td>sonstige_autos</td>\n",
              "      <td>no</td>\n",
              "      <td>20160401</td>\n",
              "      <td>61276</td>\n",
              "      <td>20160402</td>\n",
              "    </tr>\n",
              "    <tr>\n",
              "      <th>16</th>\n",
              "      <td>20160316</td>\n",
              "      <td>Opel_Vectra_B_Kombi</td>\n",
              "      <td>350</td>\n",
              "      <td>test</td>\n",
              "      <td>station_wagon</td>\n",
              "      <td>1999</td>\n",
              "      <td>manual</td>\n",
              "      <td>101</td>\n",
              "      <td>vectra</td>\n",
              "      <td>150000</td>\n",
              "      <td>5</td>\n",
              "      <td>petrol</td>\n",
              "      <td>opel</td>\n",
              "      <td>no</td>\n",
              "      <td>20160316</td>\n",
              "      <td>57299</td>\n",
              "      <td>20160318</td>\n",
              "    </tr>\n",
              "    <tr>\n",
              "      <th>17</th>\n",
              "      <td>20160329</td>\n",
              "      <td>Volkswagen_Scirocco_2_G60</td>\n",
              "      <td>5500</td>\n",
              "      <td>test</td>\n",
              "      <td>coupe</td>\n",
              "      <td>1990</td>\n",
              "      <td>manual</td>\n",
              "      <td>205</td>\n",
              "      <td>scirocco</td>\n",
              "      <td>150000</td>\n",
              "      <td>6</td>\n",
              "      <td>petrol</td>\n",
              "      <td>volkswagen</td>\n",
              "      <td>no</td>\n",
              "      <td>20160329</td>\n",
              "      <td>74821</td>\n",
              "      <td>20160405</td>\n",
              "    </tr>\n",
              "    <tr>\n",
              "      <th>18</th>\n",
              "      <td>20160326</td>\n",
              "      <td>Verkaufen_mein_bmw_e36_320_i_touring</td>\n",
              "      <td>300</td>\n",
              "      <td>control</td>\n",
              "      <td>bus</td>\n",
              "      <td>1995</td>\n",
              "      <td>manual</td>\n",
              "      <td>150</td>\n",
              "      <td>3er</td>\n",
              "      <td>150000</td>\n",
              "      <td>0</td>\n",
              "      <td>petrol</td>\n",
              "      <td>bmw</td>\n",
              "      <td>NaN</td>\n",
              "      <td>20160326</td>\n",
              "      <td>54329</td>\n",
              "      <td>20160402</td>\n",
              "    </tr>\n",
              "    <tr>\n",
              "      <th>19</th>\n",
              "      <td>20160317</td>\n",
              "      <td>mazda_tribute_2.0_mit_gas_und_tuev_neu_2018</td>\n",
              "      <td>4150</td>\n",
              "      <td>control</td>\n",
              "      <td>suv</td>\n",
              "      <td>2004</td>\n",
              "      <td>manual</td>\n",
              "      <td>124</td>\n",
              "      <td>andere</td>\n",
              "      <td>150000</td>\n",
              "      <td>2</td>\n",
              "      <td>lpg</td>\n",
              "      <td>mazda</td>\n",
              "      <td>no</td>\n",
              "      <td>20160317</td>\n",
              "      <td>40878</td>\n",
              "      <td>20160317</td>\n",
              "    </tr>\n",
              "    <tr>\n",
              "      <th>20</th>\n",
              "      <td>20160305</td>\n",
              "      <td>Audi_A4_Avant_1.9_TDI_*6_Gang*AHK*Klimatronik*...</td>\n",
              "      <td>3500</td>\n",
              "      <td>test</td>\n",
              "      <td>station_wagon</td>\n",
              "      <td>2003</td>\n",
              "      <td>manual</td>\n",
              "      <td>131</td>\n",
              "      <td>a4</td>\n",
              "      <td>150000</td>\n",
              "      <td>5</td>\n",
              "      <td>diesel</td>\n",
              "      <td>audi</td>\n",
              "      <td>NaN</td>\n",
              "      <td>20160305</td>\n",
              "      <td>53913</td>\n",
              "      <td>20160307</td>\n",
              "    </tr>\n",
              "  </tbody>\n",
              "</table>\n",
              "</div>"
            ],
            "text/plain": [
              "    date_crawled  ... last_seen\n",
              "0       20160326  ...  20160406\n",
              "1       20160404  ...  20160406\n",
              "2       20160326  ...  20160406\n",
              "3       20160312  ...  20160315\n",
              "4       20160401  ...  20160401\n",
              "5       20160321  ...  20160406\n",
              "6       20160320  ...  20160323\n",
              "7       20160316  ...  20160407\n",
              "8       20160322  ...  20160326\n",
              "9       20160316  ...  20160406\n",
              "11      20160316  ...  20160316\n",
              "12      20160331  ...  20160406\n",
              "13      20160323  ...  20160401\n",
              "14      20160323  ...  20160401\n",
              "15      20160401  ...  20160402\n",
              "16      20160316  ...  20160318\n",
              "17      20160329  ...  20160405\n",
              "18      20160326  ...  20160402\n",
              "19      20160317  ...  20160317\n",
              "20      20160305  ...  20160307\n",
              "\n",
              "[20 rows x 17 columns]"
            ]
          },
          "metadata": {
            "tags": []
          },
          "execution_count": 44
        }
      ]
    },
    {
      "cell_type": "code",
      "metadata": {
        "id": "84t1VSWN2U1W",
        "colab_type": "code",
        "colab": {
          "base_uri": "https://localhost:8080/",
          "height": 689
        },
        "outputId": "4f1a4369-5d24-4603-e370-9aa31478af8b"
      },
      "source": [
        "autos.tail(20)"
      ],
      "execution_count": 45,
      "outputs": [
        {
          "output_type": "execute_result",
          "data": {
            "text/html": [
              "<div>\n",
              "<style scoped>\n",
              "    .dataframe tbody tr th:only-of-type {\n",
              "        vertical-align: middle;\n",
              "    }\n",
              "\n",
              "    .dataframe tbody tr th {\n",
              "        vertical-align: top;\n",
              "    }\n",
              "\n",
              "    .dataframe thead th {\n",
              "        text-align: right;\n",
              "    }\n",
              "</style>\n",
              "<table border=\"1\" class=\"dataframe\">\n",
              "  <thead>\n",
              "    <tr style=\"text-align: right;\">\n",
              "      <th></th>\n",
              "      <th>date_crawled</th>\n",
              "      <th>name</th>\n",
              "      <th>price</th>\n",
              "      <th>ab_test</th>\n",
              "      <th>vehicle_type</th>\n",
              "      <th>registration_year</th>\n",
              "      <th>gearbox</th>\n",
              "      <th>power_ps</th>\n",
              "      <th>model</th>\n",
              "      <th>odometer_km</th>\n",
              "      <th>registration_month</th>\n",
              "      <th>fuel_type</th>\n",
              "      <th>brand</th>\n",
              "      <th>unrepaired_damage</th>\n",
              "      <th>ad_created</th>\n",
              "      <th>postal_code</th>\n",
              "      <th>last_seen</th>\n",
              "    </tr>\n",
              "  </thead>\n",
              "  <tbody>\n",
              "    <tr>\n",
              "      <th>49979</th>\n",
              "      <td>20160320</td>\n",
              "      <td>Volkswagen_Polo_1.6_TDI_Style</td>\n",
              "      <td>11000</td>\n",
              "      <td>test</td>\n",
              "      <td>supermini</td>\n",
              "      <td>2011</td>\n",
              "      <td>manual</td>\n",
              "      <td>90</td>\n",
              "      <td>polo</td>\n",
              "      <td>70000</td>\n",
              "      <td>11</td>\n",
              "      <td>diesel</td>\n",
              "      <td>volkswagen</td>\n",
              "      <td>no</td>\n",
              "      <td>20160320</td>\n",
              "      <td>48455</td>\n",
              "      <td>20160407</td>\n",
              "    </tr>\n",
              "    <tr>\n",
              "      <th>49980</th>\n",
              "      <td>20160312</td>\n",
              "      <td>Ford_Escort_Turnier_16V</td>\n",
              "      <td>400</td>\n",
              "      <td>control</td>\n",
              "      <td>station_wagon</td>\n",
              "      <td>1995</td>\n",
              "      <td>manual</td>\n",
              "      <td>105</td>\n",
              "      <td>escort</td>\n",
              "      <td>125000</td>\n",
              "      <td>3</td>\n",
              "      <td>petrol</td>\n",
              "      <td>ford</td>\n",
              "      <td>NaN</td>\n",
              "      <td>20160312</td>\n",
              "      <td>56218</td>\n",
              "      <td>20160406</td>\n",
              "    </tr>\n",
              "    <tr>\n",
              "      <th>49981</th>\n",
              "      <td>20160315</td>\n",
              "      <td>Opel_Astra_Kombi_mit_Anhaengerkupplung</td>\n",
              "      <td>2000</td>\n",
              "      <td>control</td>\n",
              "      <td>station_wagon</td>\n",
              "      <td>1998</td>\n",
              "      <td>manual</td>\n",
              "      <td>115</td>\n",
              "      <td>astra</td>\n",
              "      <td>150000</td>\n",
              "      <td>12</td>\n",
              "      <td>petrol</td>\n",
              "      <td>opel</td>\n",
              "      <td>no</td>\n",
              "      <td>20160315</td>\n",
              "      <td>86859</td>\n",
              "      <td>20160405</td>\n",
              "    </tr>\n",
              "    <tr>\n",
              "      <th>49982</th>\n",
              "      <td>20160329</td>\n",
              "      <td>Skoda_Fabia_4_Tuerer_Bj:2004__85.000Tkm</td>\n",
              "      <td>1950</td>\n",
              "      <td>control</td>\n",
              "      <td>supermini</td>\n",
              "      <td>2004</td>\n",
              "      <td>manual</td>\n",
              "      <td>0</td>\n",
              "      <td>fabia</td>\n",
              "      <td>90000</td>\n",
              "      <td>7</td>\n",
              "      <td>petrol</td>\n",
              "      <td>skoda</td>\n",
              "      <td>NaN</td>\n",
              "      <td>20160329</td>\n",
              "      <td>45884</td>\n",
              "      <td>20160329</td>\n",
              "    </tr>\n",
              "    <tr>\n",
              "      <th>49983</th>\n",
              "      <td>20160306</td>\n",
              "      <td>Ford_focus_99</td>\n",
              "      <td>600</td>\n",
              "      <td>test</td>\n",
              "      <td>supermini</td>\n",
              "      <td>1999</td>\n",
              "      <td>manual</td>\n",
              "      <td>101</td>\n",
              "      <td>focus</td>\n",
              "      <td>150000</td>\n",
              "      <td>4</td>\n",
              "      <td>petrol</td>\n",
              "      <td>ford</td>\n",
              "      <td>NaN</td>\n",
              "      <td>20160306</td>\n",
              "      <td>52477</td>\n",
              "      <td>20160309</td>\n",
              "    </tr>\n",
              "    <tr>\n",
              "      <th>49985</th>\n",
              "      <td>20160402</td>\n",
              "      <td>Verkaufe_meinen_vw_vento!</td>\n",
              "      <td>1000</td>\n",
              "      <td>control</td>\n",
              "      <td>NaN</td>\n",
              "      <td>1995</td>\n",
              "      <td>automatic</td>\n",
              "      <td>0</td>\n",
              "      <td>NaN</td>\n",
              "      <td>150000</td>\n",
              "      <td>0</td>\n",
              "      <td>petrol</td>\n",
              "      <td>volkswagen</td>\n",
              "      <td>NaN</td>\n",
              "      <td>20160402</td>\n",
              "      <td>30900</td>\n",
              "      <td>20160406</td>\n",
              "    </tr>\n",
              "    <tr>\n",
              "      <th>49986</th>\n",
              "      <td>20160404</td>\n",
              "      <td>Chrysler_300C_3.0_CRD_DPF_Automatik_Voll_Ausst...</td>\n",
              "      <td>15900</td>\n",
              "      <td>control</td>\n",
              "      <td>limousine</td>\n",
              "      <td>2010</td>\n",
              "      <td>automatic</td>\n",
              "      <td>218</td>\n",
              "      <td>300c</td>\n",
              "      <td>125000</td>\n",
              "      <td>11</td>\n",
              "      <td>diesel</td>\n",
              "      <td>chrysler</td>\n",
              "      <td>no</td>\n",
              "      <td>20160404</td>\n",
              "      <td>73527</td>\n",
              "      <td>20160406</td>\n",
              "    </tr>\n",
              "    <tr>\n",
              "      <th>49987</th>\n",
              "      <td>20160322</td>\n",
              "      <td>Audi_A3_Limousine_2.0_TDI_DPF_Ambition__NAVI__...</td>\n",
              "      <td>21990</td>\n",
              "      <td>control</td>\n",
              "      <td>limousine</td>\n",
              "      <td>2013</td>\n",
              "      <td>manual</td>\n",
              "      <td>150</td>\n",
              "      <td>a3</td>\n",
              "      <td>50000</td>\n",
              "      <td>11</td>\n",
              "      <td>diesel</td>\n",
              "      <td>audi</td>\n",
              "      <td>no</td>\n",
              "      <td>20160322</td>\n",
              "      <td>94362</td>\n",
              "      <td>20160326</td>\n",
              "    </tr>\n",
              "    <tr>\n",
              "      <th>49988</th>\n",
              "      <td>20160328</td>\n",
              "      <td>BMW_330_Ci</td>\n",
              "      <td>9550</td>\n",
              "      <td>control</td>\n",
              "      <td>coupe</td>\n",
              "      <td>2001</td>\n",
              "      <td>manual</td>\n",
              "      <td>231</td>\n",
              "      <td>3er</td>\n",
              "      <td>150000</td>\n",
              "      <td>10</td>\n",
              "      <td>petrol</td>\n",
              "      <td>bmw</td>\n",
              "      <td>no</td>\n",
              "      <td>20160328</td>\n",
              "      <td>83646</td>\n",
              "      <td>20160407</td>\n",
              "    </tr>\n",
              "    <tr>\n",
              "      <th>49989</th>\n",
              "      <td>20160311</td>\n",
              "      <td>VW_Polo_zum_Ausschlachten_oder_Wiederaufbau</td>\n",
              "      <td>150</td>\n",
              "      <td>test</td>\n",
              "      <td>supermini</td>\n",
              "      <td>1997</td>\n",
              "      <td>manual</td>\n",
              "      <td>0</td>\n",
              "      <td>polo</td>\n",
              "      <td>150000</td>\n",
              "      <td>5</td>\n",
              "      <td>petrol</td>\n",
              "      <td>volkswagen</td>\n",
              "      <td>yes</td>\n",
              "      <td>20160311</td>\n",
              "      <td>21244</td>\n",
              "      <td>20160312</td>\n",
              "    </tr>\n",
              "    <tr>\n",
              "      <th>49990</th>\n",
              "      <td>20160321</td>\n",
              "      <td>Mercedes_Benz_A_200__BlueEFFICIENCY__Urban</td>\n",
              "      <td>17500</td>\n",
              "      <td>test</td>\n",
              "      <td>limousine</td>\n",
              "      <td>2012</td>\n",
              "      <td>manual</td>\n",
              "      <td>156</td>\n",
              "      <td>a_klasse</td>\n",
              "      <td>30000</td>\n",
              "      <td>12</td>\n",
              "      <td>petrol</td>\n",
              "      <td>mercedes_benz</td>\n",
              "      <td>no</td>\n",
              "      <td>20160321</td>\n",
              "      <td>58239</td>\n",
              "      <td>20160406</td>\n",
              "    </tr>\n",
              "    <tr>\n",
              "      <th>49991</th>\n",
              "      <td>20160306</td>\n",
              "      <td>Kleinwagen</td>\n",
              "      <td>500</td>\n",
              "      <td>control</td>\n",
              "      <td>NaN</td>\n",
              "      <td>2016</td>\n",
              "      <td>manual</td>\n",
              "      <td>0</td>\n",
              "      <td>twingo</td>\n",
              "      <td>150000</td>\n",
              "      <td>0</td>\n",
              "      <td>petrol</td>\n",
              "      <td>renault</td>\n",
              "      <td>NaN</td>\n",
              "      <td>20160306</td>\n",
              "      <td>61350</td>\n",
              "      <td>20160306</td>\n",
              "    </tr>\n",
              "    <tr>\n",
              "      <th>49992</th>\n",
              "      <td>20160310</td>\n",
              "      <td>Fiat_Grande_Punto_1.4_T_Jet_16V_Sport</td>\n",
              "      <td>4800</td>\n",
              "      <td>control</td>\n",
              "      <td>supermini</td>\n",
              "      <td>2009</td>\n",
              "      <td>manual</td>\n",
              "      <td>120</td>\n",
              "      <td>andere</td>\n",
              "      <td>125000</td>\n",
              "      <td>9</td>\n",
              "      <td>lpg</td>\n",
              "      <td>fiat</td>\n",
              "      <td>no</td>\n",
              "      <td>20160310</td>\n",
              "      <td>68642</td>\n",
              "      <td>20160313</td>\n",
              "    </tr>\n",
              "    <tr>\n",
              "      <th>49993</th>\n",
              "      <td>20160315</td>\n",
              "      <td>Audi_A3__1_8l__Silber;_schoenes_Fahrzeug</td>\n",
              "      <td>1650</td>\n",
              "      <td>control</td>\n",
              "      <td>supermini</td>\n",
              "      <td>1997</td>\n",
              "      <td>manual</td>\n",
              "      <td>0</td>\n",
              "      <td>NaN</td>\n",
              "      <td>150000</td>\n",
              "      <td>7</td>\n",
              "      <td>petrol</td>\n",
              "      <td>audi</td>\n",
              "      <td>NaN</td>\n",
              "      <td>20160315</td>\n",
              "      <td>65203</td>\n",
              "      <td>20160406</td>\n",
              "    </tr>\n",
              "    <tr>\n",
              "      <th>49994</th>\n",
              "      <td>20160322</td>\n",
              "      <td>Audi_A6__S6__Avant_4.2_quattro_eventuell_Tausc...</td>\n",
              "      <td>5000</td>\n",
              "      <td>control</td>\n",
              "      <td>station_wagon</td>\n",
              "      <td>2001</td>\n",
              "      <td>automatic</td>\n",
              "      <td>299</td>\n",
              "      <td>a6</td>\n",
              "      <td>150000</td>\n",
              "      <td>1</td>\n",
              "      <td>petrol</td>\n",
              "      <td>audi</td>\n",
              "      <td>no</td>\n",
              "      <td>20160322</td>\n",
              "      <td>46537</td>\n",
              "      <td>20160406</td>\n",
              "    </tr>\n",
              "    <tr>\n",
              "      <th>49995</th>\n",
              "      <td>20160327</td>\n",
              "      <td>Audi_Q5_3.0_TDI_qu._S_tr.__Navi__Panorama__Xenon</td>\n",
              "      <td>24900</td>\n",
              "      <td>control</td>\n",
              "      <td>limousine</td>\n",
              "      <td>2011</td>\n",
              "      <td>automatic</td>\n",
              "      <td>239</td>\n",
              "      <td>q5</td>\n",
              "      <td>100000</td>\n",
              "      <td>1</td>\n",
              "      <td>diesel</td>\n",
              "      <td>audi</td>\n",
              "      <td>no</td>\n",
              "      <td>20160327</td>\n",
              "      <td>82131</td>\n",
              "      <td>20160401</td>\n",
              "    </tr>\n",
              "    <tr>\n",
              "      <th>49996</th>\n",
              "      <td>20160328</td>\n",
              "      <td>Opel_Astra_F_Cabrio_Bertone_Edition___TÜV_neu+...</td>\n",
              "      <td>1980</td>\n",
              "      <td>control</td>\n",
              "      <td>cabrio</td>\n",
              "      <td>1996</td>\n",
              "      <td>manual</td>\n",
              "      <td>75</td>\n",
              "      <td>astra</td>\n",
              "      <td>150000</td>\n",
              "      <td>5</td>\n",
              "      <td>petrol</td>\n",
              "      <td>opel</td>\n",
              "      <td>no</td>\n",
              "      <td>20160328</td>\n",
              "      <td>44807</td>\n",
              "      <td>20160402</td>\n",
              "    </tr>\n",
              "    <tr>\n",
              "      <th>49997</th>\n",
              "      <td>20160402</td>\n",
              "      <td>Fiat_500_C_1.2_Dualogic_Lounge</td>\n",
              "      <td>13200</td>\n",
              "      <td>test</td>\n",
              "      <td>cabrio</td>\n",
              "      <td>2014</td>\n",
              "      <td>automatic</td>\n",
              "      <td>69</td>\n",
              "      <td>500</td>\n",
              "      <td>5000</td>\n",
              "      <td>11</td>\n",
              "      <td>petrol</td>\n",
              "      <td>fiat</td>\n",
              "      <td>no</td>\n",
              "      <td>20160402</td>\n",
              "      <td>73430</td>\n",
              "      <td>20160404</td>\n",
              "    </tr>\n",
              "    <tr>\n",
              "      <th>49998</th>\n",
              "      <td>20160308</td>\n",
              "      <td>Audi_A3_2.0_TDI_Sportback_Ambition</td>\n",
              "      <td>22900</td>\n",
              "      <td>control</td>\n",
              "      <td>station_wagon</td>\n",
              "      <td>2013</td>\n",
              "      <td>manual</td>\n",
              "      <td>150</td>\n",
              "      <td>a3</td>\n",
              "      <td>40000</td>\n",
              "      <td>11</td>\n",
              "      <td>diesel</td>\n",
              "      <td>audi</td>\n",
              "      <td>no</td>\n",
              "      <td>20160308</td>\n",
              "      <td>35683</td>\n",
              "      <td>20160405</td>\n",
              "    </tr>\n",
              "    <tr>\n",
              "      <th>49999</th>\n",
              "      <td>20160314</td>\n",
              "      <td>Opel_Vectra_1.6_16V</td>\n",
              "      <td>1250</td>\n",
              "      <td>control</td>\n",
              "      <td>limousine</td>\n",
              "      <td>1996</td>\n",
              "      <td>manual</td>\n",
              "      <td>101</td>\n",
              "      <td>vectra</td>\n",
              "      <td>150000</td>\n",
              "      <td>1</td>\n",
              "      <td>petrol</td>\n",
              "      <td>opel</td>\n",
              "      <td>no</td>\n",
              "      <td>20160313</td>\n",
              "      <td>45897</td>\n",
              "      <td>20160406</td>\n",
              "    </tr>\n",
              "  </tbody>\n",
              "</table>\n",
              "</div>"
            ],
            "text/plain": [
              "       date_crawled  ... last_seen\n",
              "49979      20160320  ...  20160407\n",
              "49980      20160312  ...  20160406\n",
              "49981      20160315  ...  20160405\n",
              "49982      20160329  ...  20160329\n",
              "49983      20160306  ...  20160309\n",
              "49985      20160402  ...  20160406\n",
              "49986      20160404  ...  20160406\n",
              "49987      20160322  ...  20160326\n",
              "49988      20160328  ...  20160407\n",
              "49989      20160311  ...  20160312\n",
              "49990      20160321  ...  20160406\n",
              "49991      20160306  ...  20160306\n",
              "49992      20160310  ...  20160313\n",
              "49993      20160315  ...  20160406\n",
              "49994      20160322  ...  20160406\n",
              "49995      20160327  ...  20160401\n",
              "49996      20160328  ...  20160402\n",
              "49997      20160402  ...  20160404\n",
              "49998      20160308  ...  20160405\n",
              "49999      20160314  ...  20160406\n",
              "\n",
              "[20 rows x 17 columns]"
            ]
          },
          "metadata": {
            "tags": []
          },
          "execution_count": 45
        }
      ]
    },
    {
      "cell_type": "markdown",
      "metadata": {
        "id": "nMsJGrck2YOJ",
        "colab_type": "text"
      },
      "source": [
        "I cannot find any particular keywords in the name column that you can extract as new columns."
      ]
    },
    {
      "cell_type": "markdown",
      "metadata": {
        "id": "wOQadqnZ3DQR",
        "colab_type": "text"
      },
      "source": [
        "**Find the most common brand/model combinations**"
      ]
    },
    {
      "cell_type": "code",
      "metadata": {
        "id": "-LiYCPCt3FGu",
        "colab_type": "code",
        "colab": {
          "base_uri": "https://localhost:8080/",
          "height": 119
        },
        "outputId": "2e2c9cee-6b50-4b9c-bd06-5240f9c76ab9"
      },
      "source": [
        "autos['brand_model'] = autos['brand'] + '/' + autos['model']\n",
        "autos['brand_model'].value_counts()[:5]"
      ],
      "execution_count": 46,
      "outputs": [
        {
          "output_type": "execute_result",
          "data": {
            "text/plain": [
              "volkswagen/golf      3707\n",
              "bmw/3er              2615\n",
              "volkswagen/polo      1609\n",
              "opel/corsa           1592\n",
              "volkswagen/passat    1349\n",
              "Name: brand_model, dtype: int64"
            ]
          },
          "metadata": {
            "tags": []
          },
          "execution_count": 46
        }
      ]
    },
    {
      "cell_type": "markdown",
      "metadata": {
        "id": "SqZSy3Ek4yua",
        "colab_type": "text"
      },
      "source": [
        "From this one can tell that Volkswagen's most common model is the Golf, with 3684 units, BMW is 3er with 2615 units, and so on.\n",
        "\n",
        "**Next task:**\n",
        "- Split the `odometer_km` into groups, and use aggregation to see if average prices follows any patterns based on the milage."
      ]
    },
    {
      "cell_type": "code",
      "metadata": {
        "id": "S2tRn-OK5UwG",
        "colab_type": "code",
        "colab": {
          "base_uri": "https://localhost:8080/",
          "height": 85
        },
        "outputId": "d06eddbd-b888-43eb-8141-4ca3fef72cc1"
      },
      "source": [
        "# Split into groups\n",
        "\n",
        "group_1 = autos.loc[autos[\"odometer_km\"]<50000,'odometer_km']\n",
        "group_2 = autos.loc[autos[\"odometer_km\"].between(50000,100000),'odometer_km']\n",
        "group_3 = autos.loc[autos[\"odometer_km\"].between(100000,125000),'odometer_km']\n",
        "group_4 = autos.loc[autos[\"odometer_km\"].between(125000,150000),'odometer_km']\n",
        "\n",
        "# Use aggregation to calculate average prices\n",
        "\n",
        "mileage_avg_prices = {}\n",
        "groups = [group_1,group_2,group_3,group_4]\n",
        "group_number = 1\n",
        "\n",
        "for group in groups:\n",
        "    avg_price = autos.loc[group.index, \"price\"].mean()\n",
        "    mileage_avg_prices['group_'+str(group_number)] = avg_price\n",
        "    group_number+=1\n",
        "    \n",
        "mileage_avg_prices\n",
        "    "
      ],
      "execution_count": 47,
      "outputs": [
        {
          "output_type": "execute_result",
          "data": {
            "text/plain": [
              "{'group_1': 15212.965714285714,\n",
              " 'group_2': 10093.070477775136,\n",
              " 'group_3': 6785.046420824295,\n",
              " 'group_4': 4107.938641176807}"
            ]
          },
          "metadata": {
            "tags": []
          },
          "execution_count": 47
        }
      ]
    },
    {
      "cell_type": "markdown",
      "metadata": {
        "id": "V3BOvu4w6ect",
        "colab_type": "text"
      },
      "source": [
        "This confirms that average prices depend on the mileage. On average, cars with under 50000 miles (newer ones) cost about 15000 dollars, whereas those with over 125000 miles cost 4000 dollars.\n",
        "\n",
        "**Next task:**\n",
        "\n",
        "How much cheaper are cars with damage than their non-damaged counterparts?"
      ]
    },
    {
      "cell_type": "code",
      "metadata": {
        "id": "3EONzT4W7pCu",
        "colab_type": "code",
        "colab": {
          "base_uri": "https://localhost:8080/",
          "height": 34
        },
        "outputId": "5e5836d8-1fe1-43e6-d675-08f5eb775df5"
      },
      "source": [
        "autos['unrepaired_damage'].unique()"
      ],
      "execution_count": 48,
      "outputs": [
        {
          "output_type": "execute_result",
          "data": {
            "text/plain": [
              "array(['no', nan, 'yes'], dtype=object)"
            ]
          },
          "metadata": {
            "tags": []
          },
          "execution_count": 48
        }
      ]
    },
    {
      "cell_type": "code",
      "metadata": {
        "id": "7NmtdyIZ66eK",
        "colab_type": "code",
        "colab": {
          "base_uri": "https://localhost:8080/",
          "height": 170
        },
        "outputId": "f5a08c16-3522-4ab8-9029-a3aa99c836c4"
      },
      "source": [
        "#Find what models are/are not damaged\n",
        "damaged_models = autos.loc[autos['unrepaired_damage']=='yes',\"model\"]\n",
        "non_damaged_models = autos.loc[autos['unrepaired_damage']=='no',\"model\"]\n",
        "\n",
        "#Get the price for those models\n",
        "damaged_prices = autos.loc[damaged_models.index,\"price\"]\n",
        "non_damaged_prices = autos.loc[non_damaged_models.index,\"price\"]\n",
        "\n",
        "#check damage_price\n",
        "damaged_prices.describe()"
      ],
      "execution_count": 49,
      "outputs": [
        {
          "output_type": "execute_result",
          "data": {
            "text/plain": [
              "count     4540.000000\n",
              "mean      2241.146035\n",
              "std       3563.276478\n",
              "min          1.000000\n",
              "25%        500.000000\n",
              "50%       1000.000000\n",
              "75%       2500.000000\n",
              "max      44200.000000\n",
              "Name: price, dtype: float64"
            ]
          },
          "metadata": {
            "tags": []
          },
          "execution_count": 49
        }
      ]
    },
    {
      "cell_type": "code",
      "metadata": {
        "id": "6LqCTJgw8Khm",
        "colab_type": "code",
        "colab": {
          "base_uri": "https://localhost:8080/",
          "height": 170
        },
        "outputId": "2449bf07-4e93-4e41-8f1e-88975c9076e5"
      },
      "source": [
        "non_damaged_prices.describe()"
      ],
      "execution_count": 50,
      "outputs": [
        {
          "output_type": "execute_result",
          "data": {
            "text/plain": [
              "count     33834.000000\n",
              "mean       7164.033103\n",
              "std       10078.475478\n",
              "min           1.000000\n",
              "25%        1800.000000\n",
              "50%        4150.000000\n",
              "75%        9000.000000\n",
              "max      350000.000000\n",
              "Name: price, dtype: float64"
            ]
          },
          "metadata": {
            "tags": []
          },
          "execution_count": 50
        }
      ]
    },
    {
      "cell_type": "markdown",
      "metadata": {
        "id": "AcWyFuPg8SVD",
        "colab_type": "text"
      },
      "source": [
        "With this one can conclude unrepaired damage can significantly lower car prices. On average, damaged models are priced at around 2000 dollars up to close to 45000, while non-damaged are worth 7000 dollars, up to 100000."
      ]
    }
  ]
}